{
 "cells": [
  {
   "cell_type": "code",
   "execution_count": 1,
   "metadata": {},
   "outputs": [],
   "source": [
    "import numpy as np\n",
    "import pandas as pd"
   ]
  },
  {
   "cell_type": "markdown",
   "metadata": {},
   "source": [
    "# A2: BIAS IN DATA\n",
    "\n",
    "This assignment aims to look at the possible biases in data, and present it in a format that is readable and reproducible.\n",
    "\n",
    "This notebook is divided into the following sections:\n",
    "\n",
    "- [Reading Data](#Reading-data)\n",
    "- [Initial Data Cleaning](#Initial-Data-Cleaning)\n",
    "- [ORES Analysis](#Using-ORES-API-for-predicting-article-quality)\n",
    "- [Final Data Cleaning and consolidation](#Final-Data-Cleaning-and-Consolidation)\n",
    "- [Analysis](#Data-Analysis)\n",
    "    - [Creating Percentages](#In-the-first-half-of-this-analysis-we-will-calculate-the-percentages-and-store-them-in-a-data-frame)\n",
    "    - [Looking at the tables](#The-Second-half-of-this-analysis-will-be-looking-at-the-10-lowest-and-highest-ranking-countries-in:)\n",
    "- [Conclusion](#Conclusion)"
   ]
  },
  {
   "cell_type": "markdown",
   "metadata": {},
   "source": [
    "## Reading data\n",
    "\n",
    "### The data we will be analyzing is from two sources:\n",
    "\n",
    "- Population data: this data is drawn from the world population datasheet at: https://www.prb.org/international/indicator/population/table/\n",
    "- Politicle articles data by country is drawn from https://figshare.com/articles/Untitled_Item/5513449 (the documentation for the same is available at the link)\n",
    "\n",
    "The raw data files are present in the data folder in the parent repo.\n",
    "\n",
    "In the following cells we will read the data from the local folders into dataframes:"
   ]
  },
  {
   "cell_type": "code",
   "execution_count": 2,
   "metadata": {},
   "outputs": [],
   "source": [
    "politician_data = pd.read_csv('data/raw_data/page_data.csv')"
   ]
  },
  {
   "cell_type": "code",
   "execution_count": 3,
   "metadata": {},
   "outputs": [],
   "source": [
    "population_data = pd.read_csv('data/raw_data/WPDS_2018_data.csv')"
   ]
  },
  {
   "cell_type": "markdown",
   "metadata": {},
   "source": [
    "## Initial Data Cleaning\n",
    "\n",
    "As mentioned in the [A2 assignment wiki](https://wiki.communitydata.science/Human_Centered_Data_Science_(Fall_2019)/Assignments#Cleaning_the_data), certain rows in both dataframes need to be filtered out, as they have nothing to do with our current analysis.\n",
    "\n",
    "### 1) We will remove all the rows containing the word \"Template\" in the page column of the politician_data\n",
    "#### Step 1: Split the page column by the delimiter ':' into two columns"
   ]
  },
  {
   "cell_type": "code",
   "execution_count": 4,
   "metadata": {},
   "outputs": [],
   "source": [
    "politician_data[['Template','Page_Only']] = politician_data.page.str.split(\":\",expand=True) "
   ]
  },
  {
   "cell_type": "code",
   "execution_count": 5,
   "metadata": {},
   "outputs": [
    {
     "data": {
      "text/html": [
       "<div>\n",
       "<style scoped>\n",
       "    .dataframe tbody tr th:only-of-type {\n",
       "        vertical-align: middle;\n",
       "    }\n",
       "\n",
       "    .dataframe tbody tr th {\n",
       "        vertical-align: top;\n",
       "    }\n",
       "\n",
       "    .dataframe thead th {\n",
       "        text-align: right;\n",
       "    }\n",
       "</style>\n",
       "<table border=\"1\" class=\"dataframe\">\n",
       "  <thead>\n",
       "    <tr style=\"text-align: right;\">\n",
       "      <th></th>\n",
       "      <th>page</th>\n",
       "      <th>country</th>\n",
       "      <th>rev_id</th>\n",
       "      <th>Template</th>\n",
       "      <th>Page_Only</th>\n",
       "    </tr>\n",
       "  </thead>\n",
       "  <tbody>\n",
       "    <tr>\n",
       "      <th>0</th>\n",
       "      <td>Template:ZambiaProvincialMinisters</td>\n",
       "      <td>Zambia</td>\n",
       "      <td>235107991</td>\n",
       "      <td>Template</td>\n",
       "      <td>ZambiaProvincialMinisters</td>\n",
       "    </tr>\n",
       "    <tr>\n",
       "      <th>1</th>\n",
       "      <td>Bir I of Kanem</td>\n",
       "      <td>Chad</td>\n",
       "      <td>355319463</td>\n",
       "      <td>Bir I of Kanem</td>\n",
       "      <td>None</td>\n",
       "    </tr>\n",
       "    <tr>\n",
       "      <th>2</th>\n",
       "      <td>Template:Zimbabwe-politician-stub</td>\n",
       "      <td>Zimbabwe</td>\n",
       "      <td>391862046</td>\n",
       "      <td>Template</td>\n",
       "      <td>Zimbabwe-politician-stub</td>\n",
       "    </tr>\n",
       "    <tr>\n",
       "      <th>3</th>\n",
       "      <td>Template:Uganda-politician-stub</td>\n",
       "      <td>Uganda</td>\n",
       "      <td>391862070</td>\n",
       "      <td>Template</td>\n",
       "      <td>Uganda-politician-stub</td>\n",
       "    </tr>\n",
       "    <tr>\n",
       "      <th>4</th>\n",
       "      <td>Template:Namibia-politician-stub</td>\n",
       "      <td>Namibia</td>\n",
       "      <td>391862409</td>\n",
       "      <td>Template</td>\n",
       "      <td>Namibia-politician-stub</td>\n",
       "    </tr>\n",
       "  </tbody>\n",
       "</table>\n",
       "</div>"
      ],
      "text/plain": [
       "                                 page   country     rev_id        Template  \\\n",
       "0  Template:ZambiaProvincialMinisters    Zambia  235107991        Template   \n",
       "1                      Bir I of Kanem      Chad  355319463  Bir I of Kanem   \n",
       "2   Template:Zimbabwe-politician-stub  Zimbabwe  391862046        Template   \n",
       "3     Template:Uganda-politician-stub    Uganda  391862070        Template   \n",
       "4    Template:Namibia-politician-stub   Namibia  391862409        Template   \n",
       "\n",
       "                   Page_Only  \n",
       "0  ZambiaProvincialMinisters  \n",
       "1                       None  \n",
       "2   Zimbabwe-politician-stub  \n",
       "3     Uganda-politician-stub  \n",
       "4    Namibia-politician-stub  "
      ]
     },
     "execution_count": 5,
     "metadata": {},
     "output_type": "execute_result"
    }
   ],
   "source": [
    "politician_data.head()"
   ]
  },
  {
   "cell_type": "markdown",
   "metadata": {},
   "source": [
    "#### Step 2: Remove all rows with Template value \"Template\""
   ]
  },
  {
   "cell_type": "code",
   "execution_count": 6,
   "metadata": {},
   "outputs": [],
   "source": [
    "politician_data = politician_data[politician_data.Template != \"Template\"]"
   ]
  },
  {
   "cell_type": "markdown",
   "metadata": {},
   "source": [
    "#### Step 3: Finally we will drop the newly generated columns"
   ]
  },
  {
   "cell_type": "code",
   "execution_count": 7,
   "metadata": {},
   "outputs": [],
   "source": [
    "del politician_data[\"Template\"]"
   ]
  },
  {
   "cell_type": "code",
   "execution_count": 8,
   "metadata": {},
   "outputs": [],
   "source": [
    "del politician_data[\"Page_Only\"]"
   ]
  },
  {
   "cell_type": "code",
   "execution_count": 9,
   "metadata": {
    "scrolled": true
   },
   "outputs": [
    {
     "data": {
      "text/html": [
       "<div>\n",
       "<style scoped>\n",
       "    .dataframe tbody tr th:only-of-type {\n",
       "        vertical-align: middle;\n",
       "    }\n",
       "\n",
       "    .dataframe tbody tr th {\n",
       "        vertical-align: top;\n",
       "    }\n",
       "\n",
       "    .dataframe thead th {\n",
       "        text-align: right;\n",
       "    }\n",
       "</style>\n",
       "<table border=\"1\" class=\"dataframe\">\n",
       "  <thead>\n",
       "    <tr style=\"text-align: right;\">\n",
       "      <th></th>\n",
       "      <th>page</th>\n",
       "      <th>country</th>\n",
       "      <th>rev_id</th>\n",
       "    </tr>\n",
       "  </thead>\n",
       "  <tbody>\n",
       "    <tr>\n",
       "      <th>1</th>\n",
       "      <td>Bir I of Kanem</td>\n",
       "      <td>Chad</td>\n",
       "      <td>355319463</td>\n",
       "    </tr>\n",
       "    <tr>\n",
       "      <th>10</th>\n",
       "      <td>Information Minister of the Palestinian Nation...</td>\n",
       "      <td>Palestinian Territory</td>\n",
       "      <td>393276188</td>\n",
       "    </tr>\n",
       "    <tr>\n",
       "      <th>12</th>\n",
       "      <td>Yos Por</td>\n",
       "      <td>Cambodia</td>\n",
       "      <td>393822005</td>\n",
       "    </tr>\n",
       "    <tr>\n",
       "      <th>23</th>\n",
       "      <td>Julius Gregr</td>\n",
       "      <td>Czech Republic</td>\n",
       "      <td>395521877</td>\n",
       "    </tr>\n",
       "    <tr>\n",
       "      <th>24</th>\n",
       "      <td>Edvard Gregr</td>\n",
       "      <td>Czech Republic</td>\n",
       "      <td>395526568</td>\n",
       "    </tr>\n",
       "  </tbody>\n",
       "</table>\n",
       "</div>"
      ],
      "text/plain": [
       "                                                 page                country  \\\n",
       "1                                      Bir I of Kanem                   Chad   \n",
       "10  Information Minister of the Palestinian Nation...  Palestinian Territory   \n",
       "12                                            Yos Por               Cambodia   \n",
       "23                                       Julius Gregr         Czech Republic   \n",
       "24                                       Edvard Gregr         Czech Republic   \n",
       "\n",
       "       rev_id  \n",
       "1   355319463  \n",
       "10  393276188  \n",
       "12  393822005  \n",
       "23  395521877  \n",
       "24  395526568  "
      ]
     },
     "execution_count": 9,
     "metadata": {},
     "output_type": "execute_result"
    }
   ],
   "source": [
    "politician_data.head()"
   ]
  },
  {
   "cell_type": "markdown",
   "metadata": {},
   "source": [
    "#### Step 4: We will write this clean data into a csv file for future analysis\n"
   ]
  },
  {
   "cell_type": "code",
   "execution_count": 10,
   "metadata": {},
   "outputs": [],
   "source": [
    "politician_data.to_csv('data/generated_data/clean_political_article_data.csv')"
   ]
  },
  {
   "cell_type": "markdown",
   "metadata": {},
   "source": [
    "### 2) We will now remove all rows with capital country names in the population_data , and store it in an intermediate csv file for future analysis\n",
    "\n",
    "#### Step 1: Check for only uppercase values in the \"Geography\" column and store it in another column \"is_upper\""
   ]
  },
  {
   "cell_type": "code",
   "execution_count": 11,
   "metadata": {},
   "outputs": [],
   "source": [
    "population_data['is_upper'] = list(map(lambda x: x.isupper(), population_data['Geography']))"
   ]
  },
  {
   "cell_type": "code",
   "execution_count": 12,
   "metadata": {},
   "outputs": [
    {
     "data": {
      "text/html": [
       "<div>\n",
       "<style scoped>\n",
       "    .dataframe tbody tr th:only-of-type {\n",
       "        vertical-align: middle;\n",
       "    }\n",
       "\n",
       "    .dataframe tbody tr th {\n",
       "        vertical-align: top;\n",
       "    }\n",
       "\n",
       "    .dataframe thead th {\n",
       "        text-align: right;\n",
       "    }\n",
       "</style>\n",
       "<table border=\"1\" class=\"dataframe\">\n",
       "  <thead>\n",
       "    <tr style=\"text-align: right;\">\n",
       "      <th></th>\n",
       "      <th>Geography</th>\n",
       "      <th>Population mid-2018 (millions)</th>\n",
       "      <th>is_upper</th>\n",
       "    </tr>\n",
       "  </thead>\n",
       "  <tbody>\n",
       "    <tr>\n",
       "      <th>0</th>\n",
       "      <td>AFRICA</td>\n",
       "      <td>1,284</td>\n",
       "      <td>True</td>\n",
       "    </tr>\n",
       "    <tr>\n",
       "      <th>1</th>\n",
       "      <td>Algeria</td>\n",
       "      <td>42.7</td>\n",
       "      <td>False</td>\n",
       "    </tr>\n",
       "    <tr>\n",
       "      <th>2</th>\n",
       "      <td>Egypt</td>\n",
       "      <td>97</td>\n",
       "      <td>False</td>\n",
       "    </tr>\n",
       "    <tr>\n",
       "      <th>3</th>\n",
       "      <td>Libya</td>\n",
       "      <td>6.5</td>\n",
       "      <td>False</td>\n",
       "    </tr>\n",
       "    <tr>\n",
       "      <th>4</th>\n",
       "      <td>Morocco</td>\n",
       "      <td>35.2</td>\n",
       "      <td>False</td>\n",
       "    </tr>\n",
       "  </tbody>\n",
       "</table>\n",
       "</div>"
      ],
      "text/plain": [
       "  Geography Population mid-2018 (millions)  is_upper\n",
       "0    AFRICA                          1,284      True\n",
       "1   Algeria                           42.7     False\n",
       "2     Egypt                             97     False\n",
       "3     Libya                            6.5     False\n",
       "4   Morocco                           35.2     False"
      ]
     },
     "execution_count": 12,
     "metadata": {},
     "output_type": "execute_result"
    }
   ],
   "source": [
    "population_data.head()"
   ]
  },
  {
   "cell_type": "markdown",
   "metadata": {},
   "source": [
    "#### Step 2: Now we will store all rows with is_upper values as \"True\" in an intermediate csv"
   ]
  },
  {
   "cell_type": "code",
   "execution_count": 13,
   "metadata": {},
   "outputs": [],
   "source": [
    "population_data_cumulative = population_data[population_data.is_upper == True]"
   ]
  },
  {
   "cell_type": "code",
   "execution_count": 14,
   "metadata": {},
   "outputs": [],
   "source": [
    "del population_data_cumulative[\"is_upper\"]"
   ]
  },
  {
   "cell_type": "code",
   "execution_count": 15,
   "metadata": {
    "scrolled": true
   },
   "outputs": [
    {
     "data": {
      "text/html": [
       "<div>\n",
       "<style scoped>\n",
       "    .dataframe tbody tr th:only-of-type {\n",
       "        vertical-align: middle;\n",
       "    }\n",
       "\n",
       "    .dataframe tbody tr th {\n",
       "        vertical-align: top;\n",
       "    }\n",
       "\n",
       "    .dataframe thead th {\n",
       "        text-align: right;\n",
       "    }\n",
       "</style>\n",
       "<table border=\"1\" class=\"dataframe\">\n",
       "  <thead>\n",
       "    <tr style=\"text-align: right;\">\n",
       "      <th></th>\n",
       "      <th>Geography</th>\n",
       "      <th>Population mid-2018 (millions)</th>\n",
       "    </tr>\n",
       "  </thead>\n",
       "  <tbody>\n",
       "    <tr>\n",
       "      <th>0</th>\n",
       "      <td>AFRICA</td>\n",
       "      <td>1,284</td>\n",
       "    </tr>\n",
       "    <tr>\n",
       "      <th>56</th>\n",
       "      <td>NORTHERN AMERICA</td>\n",
       "      <td>365</td>\n",
       "    </tr>\n",
       "    <tr>\n",
       "      <th>59</th>\n",
       "      <td>LATIN AMERICA AND THE CARIBBEAN</td>\n",
       "      <td>649</td>\n",
       "    </tr>\n",
       "    <tr>\n",
       "      <th>95</th>\n",
       "      <td>ASIA</td>\n",
       "      <td>4,536</td>\n",
       "    </tr>\n",
       "    <tr>\n",
       "      <th>144</th>\n",
       "      <td>EUROPE</td>\n",
       "      <td>746</td>\n",
       "    </tr>\n",
       "  </tbody>\n",
       "</table>\n",
       "</div>"
      ],
      "text/plain": [
       "                           Geography Population mid-2018 (millions)\n",
       "0                             AFRICA                          1,284\n",
       "56                  NORTHERN AMERICA                            365\n",
       "59   LATIN AMERICA AND THE CARIBBEAN                            649\n",
       "95                              ASIA                          4,536\n",
       "144                           EUROPE                            746"
      ]
     },
     "execution_count": 15,
     "metadata": {},
     "output_type": "execute_result"
    }
   ],
   "source": [
    "population_data_cumulative.head()"
   ]
  },
  {
   "cell_type": "code",
   "execution_count": 16,
   "metadata": {},
   "outputs": [],
   "source": [
    "population_data_cumulative.to_csv('data/generated_data/cumulative_population.csv')"
   ]
  },
  {
   "cell_type": "markdown",
   "metadata": {},
   "source": [
    "#### Step 3: Finally we will delete all rows with is_upper value True from our population_data DataFrame"
   ]
  },
  {
   "cell_type": "code",
   "execution_count": 17,
   "metadata": {},
   "outputs": [],
   "source": [
    "population_data = population_data[population_data.is_upper != True]"
   ]
  },
  {
   "cell_type": "markdown",
   "metadata": {},
   "source": [
    "#### Step 4: Deleting superfluous rows"
   ]
  },
  {
   "cell_type": "code",
   "execution_count": 18,
   "metadata": {},
   "outputs": [],
   "source": [
    "del population_data['is_upper']"
   ]
  },
  {
   "cell_type": "code",
   "execution_count": 19,
   "metadata": {},
   "outputs": [
    {
     "data": {
      "text/html": [
       "<div>\n",
       "<style scoped>\n",
       "    .dataframe tbody tr th:only-of-type {\n",
       "        vertical-align: middle;\n",
       "    }\n",
       "\n",
       "    .dataframe tbody tr th {\n",
       "        vertical-align: top;\n",
       "    }\n",
       "\n",
       "    .dataframe thead th {\n",
       "        text-align: right;\n",
       "    }\n",
       "</style>\n",
       "<table border=\"1\" class=\"dataframe\">\n",
       "  <thead>\n",
       "    <tr style=\"text-align: right;\">\n",
       "      <th></th>\n",
       "      <th>Geography</th>\n",
       "      <th>Population mid-2018 (millions)</th>\n",
       "    </tr>\n",
       "  </thead>\n",
       "  <tbody>\n",
       "    <tr>\n",
       "      <th>1</th>\n",
       "      <td>Algeria</td>\n",
       "      <td>42.7</td>\n",
       "    </tr>\n",
       "    <tr>\n",
       "      <th>2</th>\n",
       "      <td>Egypt</td>\n",
       "      <td>97</td>\n",
       "    </tr>\n",
       "    <tr>\n",
       "      <th>3</th>\n",
       "      <td>Libya</td>\n",
       "      <td>6.5</td>\n",
       "    </tr>\n",
       "    <tr>\n",
       "      <th>4</th>\n",
       "      <td>Morocco</td>\n",
       "      <td>35.2</td>\n",
       "    </tr>\n",
       "    <tr>\n",
       "      <th>5</th>\n",
       "      <td>Sudan</td>\n",
       "      <td>41.7</td>\n",
       "    </tr>\n",
       "  </tbody>\n",
       "</table>\n",
       "</div>"
      ],
      "text/plain": [
       "  Geography Population mid-2018 (millions)\n",
       "1   Algeria                           42.7\n",
       "2     Egypt                             97\n",
       "3     Libya                            6.5\n",
       "4   Morocco                           35.2\n",
       "5     Sudan                           41.7"
      ]
     },
     "execution_count": 19,
     "metadata": {},
     "output_type": "execute_result"
    }
   ],
   "source": [
    "population_data.head()"
   ]
  },
  {
   "cell_type": "markdown",
   "metadata": {},
   "source": [
    "#### Step 5:  Write clean population data into its own csv"
   ]
  },
  {
   "cell_type": "code",
   "execution_count": 20,
   "metadata": {},
   "outputs": [],
   "source": [
    "population_data.to_csv('data/generated_data/clean_population_data.csv')"
   ]
  },
  {
   "cell_type": "markdown",
   "metadata": {},
   "source": [
    "## Using ORES API for predicting article quality\n",
    "\n",
    "Our politician_data contains rev_ids which are used by the ORES API to categorize the article by \"quality\". The documentation for this API can be found [here](https://ores.wikimedia.org/v3/#!/scoring/get_v3_scores_context_revid_model).\n",
    "\n",
    "In the following cells we will use the [template](https://github.com/Ironholds/data-512-a2/blob/master/hcds-a2-bias_demo.ipynb) provided in the [A2 assignment wiki](https://wiki.communitydata.science/Human_Centered_Data_Science_(Fall_2019)/Assignments#Getting_article_quality_predictions) to get these predictions from the ORES API \n",
    "\n",
    "As per the template code provided in the A2 assignment, we know that the json format returned is as follows:\n",
    "\n",
    "```{\n",
    "    \"enwiki\": {\n",
    "        \"models\": {\n",
    "            \"wp10\": {\n",
    "                \"version\": \"0.8.1\"\n",
    "            }\n",
    "        },\n",
    "        \"scores\": {\n",
    "            \"757539710\": {\n",
    "                \"wp10\": {\n",
    "                    \"score\": {\n",
    "                        \"prediction\": \"Start\",\n",
    "                        \"probability\": {\n",
    "                            \"B\": 0.06907655349650586,\n",
    "                            \"C\": 0.1730497923608886,\n",
    "                            \"FA\": 0.003738253691275387,\n",
    "                            \"GA\": 0.007083489019420698,\n",
    "                            \"Start\": 0.7205318510650603,\n",
    "                            \"Stub\": 0.02652006036684928\n",
    "                        }\n",
    "                    }\n",
    "                }\n",
    "            },\n",
    "        }\n",
    "    }\n",
    "}```"
   ]
  },
  {
   "cell_type": "markdown",
   "metadata": {},
   "source": [
    "And we want to isolate the enwiki -> scores -> {revid} -> wp10 -> score -> prediction value, \n",
    "\n",
    "#### Step 1: thus we will create a function that returns just that value"
   ]
  },
  {
   "cell_type": "code",
   "execution_count": 21,
   "metadata": {},
   "outputs": [],
   "source": [
    "import requests\n",
    "import json\n",
    "\n",
    "headers = {'User-Agent' : 'https://github.com/apoorva-sh', 'From' : 'apshetty@uw.edu'}\n",
    "\n",
    "def get_ores_data(revision_ids, headers):\n",
    "    \n",
    "    endpoint = 'https://ores.wikimedia.org/v3/scores/{project}/?models={model}&revids={revids}'\n",
    "    \n",
    "    params = {'project' : 'enwiki',\n",
    "              'model'   : 'wp10',\n",
    "              'revids'  : '|'.join(str(x) for x in revision_ids) #'smushing' rev ids\n",
    "              }\n",
    "    api_call = requests.get(endpoint.format(**params))\n",
    "    response = api_call.json()\n",
    "    \n",
    "    predictions = []\n",
    "    \n",
    "    # Isolating prediction value\n",
    "    for key, value in response[\"enwiki\"][\"scores\"].items():\n",
    "        item_wp10 = value[\"wp10\"]\n",
    "        if \"error\" not in item_wp10: #filtering out error values\n",
    "            prediction = [\n",
    "                int(key),\n",
    "                item_wp10[\"score\"][\"prediction\"]\n",
    "            ]\n",
    "            predictions.append(prediction)\n",
    "    \n",
    "    return predictions\n"
   ]
  },
  {
   "cell_type": "markdown",
   "metadata": {},
   "source": [
    "#### Step 2: Now we will create a function that sends 100 revision ids at a time to the get_ores_data function"
   ]
  },
  {
   "cell_type": "code",
   "execution_count": 22,
   "metadata": {},
   "outputs": [],
   "source": [
    "def get_predictions(rev_ids):\n",
    "    predictions = []\n",
    "    rev_list = []\n",
    "    i = 0\n",
    "    for rev in rev_ids:\n",
    "        if i < 100 :\n",
    "            rev_list.append(rev)\n",
    "            i = i+1\n",
    "        else:\n",
    "            predictions.append(get_ores_data(rev_list,headers))\n",
    "            i=0\n",
    "            rev_list = []\n",
    "    return predictions"
   ]
  },
  {
   "cell_type": "markdown",
   "metadata": {},
   "source": [
    "#### Step 3: Using the above two functions to get a set of predictions in encapsulated list format (lists within lists)"
   ]
  },
  {
   "cell_type": "code",
   "execution_count": 23,
   "metadata": {},
   "outputs": [],
   "source": [
    "preds = get_predictions(politician_data.rev_id)"
   ]
  },
  {
   "cell_type": "markdown",
   "metadata": {},
   "source": [
    "#### Step 4: Now preds contains prediction in subsets of 100, so we will convert it into a temporary collection of dataframes "
   ]
  },
  {
   "cell_type": "code",
   "execution_count": 24,
   "metadata": {},
   "outputs": [],
   "source": [
    "temporary = [pd.DataFrame(pred_sub) for pred_sub in preds]"
   ]
  },
  {
   "cell_type": "markdown",
   "metadata": {},
   "source": [
    "#### Step 5: Now we will concatenate this into one prediction dataframe"
   ]
  },
  {
   "cell_type": "code",
   "execution_count": 25,
   "metadata": {},
   "outputs": [],
   "source": [
    "quality_prediction = pd.concat(temporary)"
   ]
  },
  {
   "cell_type": "code",
   "execution_count": 26,
   "metadata": {},
   "outputs": [
    {
     "data": {
      "text/html": [
       "<div>\n",
       "<style scoped>\n",
       "    .dataframe tbody tr th:only-of-type {\n",
       "        vertical-align: middle;\n",
       "    }\n",
       "\n",
       "    .dataframe tbody tr th {\n",
       "        vertical-align: top;\n",
       "    }\n",
       "\n",
       "    .dataframe thead th {\n",
       "        text-align: right;\n",
       "    }\n",
       "</style>\n",
       "<table border=\"1\" class=\"dataframe\">\n",
       "  <thead>\n",
       "    <tr style=\"text-align: right;\">\n",
       "      <th></th>\n",
       "      <th>0</th>\n",
       "      <th>1</th>\n",
       "    </tr>\n",
       "  </thead>\n",
       "  <tbody>\n",
       "    <tr>\n",
       "      <th>0</th>\n",
       "      <td>355319463</td>\n",
       "      <td>Stub</td>\n",
       "    </tr>\n",
       "    <tr>\n",
       "      <th>1</th>\n",
       "      <td>393276188</td>\n",
       "      <td>Stub</td>\n",
       "    </tr>\n",
       "    <tr>\n",
       "      <th>2</th>\n",
       "      <td>393822005</td>\n",
       "      <td>Stub</td>\n",
       "    </tr>\n",
       "    <tr>\n",
       "      <th>3</th>\n",
       "      <td>395521877</td>\n",
       "      <td>Stub</td>\n",
       "    </tr>\n",
       "    <tr>\n",
       "      <th>4</th>\n",
       "      <td>395526568</td>\n",
       "      <td>Stub</td>\n",
       "    </tr>\n",
       "  </tbody>\n",
       "</table>\n",
       "</div>"
      ],
      "text/plain": [
       "           0     1\n",
       "0  355319463  Stub\n",
       "1  393276188  Stub\n",
       "2  393822005  Stub\n",
       "3  395521877  Stub\n",
       "4  395526568  Stub"
      ]
     },
     "execution_count": 26,
     "metadata": {},
     "output_type": "execute_result"
    }
   ],
   "source": [
    "quality_prediction.head()"
   ]
  },
  {
   "cell_type": "code",
   "execution_count": 27,
   "metadata": {},
   "outputs": [
    {
     "data": {
      "text/html": [
       "<div>\n",
       "<style scoped>\n",
       "    .dataframe tbody tr th:only-of-type {\n",
       "        vertical-align: middle;\n",
       "    }\n",
       "\n",
       "    .dataframe tbody tr th {\n",
       "        vertical-align: top;\n",
       "    }\n",
       "\n",
       "    .dataframe thead th {\n",
       "        text-align: right;\n",
       "    }\n",
       "</style>\n",
       "<table border=\"1\" class=\"dataframe\">\n",
       "  <thead>\n",
       "    <tr style=\"text-align: right;\">\n",
       "      <th></th>\n",
       "      <th>rev_id</th>\n",
       "      <th>prediction</th>\n",
       "    </tr>\n",
       "  </thead>\n",
       "  <tbody>\n",
       "    <tr>\n",
       "      <th>0</th>\n",
       "      <td>355319463</td>\n",
       "      <td>Stub</td>\n",
       "    </tr>\n",
       "    <tr>\n",
       "      <th>1</th>\n",
       "      <td>393276188</td>\n",
       "      <td>Stub</td>\n",
       "    </tr>\n",
       "    <tr>\n",
       "      <th>2</th>\n",
       "      <td>393822005</td>\n",
       "      <td>Stub</td>\n",
       "    </tr>\n",
       "    <tr>\n",
       "      <th>3</th>\n",
       "      <td>395521877</td>\n",
       "      <td>Stub</td>\n",
       "    </tr>\n",
       "    <tr>\n",
       "      <th>4</th>\n",
       "      <td>395526568</td>\n",
       "      <td>Stub</td>\n",
       "    </tr>\n",
       "  </tbody>\n",
       "</table>\n",
       "</div>"
      ],
      "text/plain": [
       "      rev_id prediction\n",
       "0  355319463       Stub\n",
       "1  393276188       Stub\n",
       "2  393822005       Stub\n",
       "3  395521877       Stub\n",
       "4  395526568       Stub"
      ]
     },
     "execution_count": 27,
     "metadata": {},
     "output_type": "execute_result"
    }
   ],
   "source": [
    "#Renaming columns\n",
    "quality_prediction = quality_prediction.rename(columns={0: \"rev_id\", 1: \"prediction\"})\n",
    "\n",
    "quality_prediction.head()"
   ]
  },
  {
   "cell_type": "markdown",
   "metadata": {},
   "source": [
    "#### Step 6: We will store this value for further analysis"
   ]
  },
  {
   "cell_type": "code",
   "execution_count": 28,
   "metadata": {},
   "outputs": [],
   "source": [
    "#Storing it in csv file\n",
    "\n",
    "quality_prediction.to_csv('data/generated_data/quality_prediction.csv')\n"
   ]
  },
  {
   "cell_type": "markdown",
   "metadata": {},
   "source": [
    "## Final Data Cleaning and Consolidation\n",
    "\n",
    "### 1) Merging our clean politician data and population data\n",
    "\n",
    "#### Step 1: To do this we will first read from our clean data csvs"
   ]
  },
  {
   "cell_type": "code",
   "execution_count": 29,
   "metadata": {},
   "outputs": [
    {
     "data": {
      "text/html": [
       "<div>\n",
       "<style scoped>\n",
       "    .dataframe tbody tr th:only-of-type {\n",
       "        vertical-align: middle;\n",
       "    }\n",
       "\n",
       "    .dataframe tbody tr th {\n",
       "        vertical-align: top;\n",
       "    }\n",
       "\n",
       "    .dataframe thead th {\n",
       "        text-align: right;\n",
       "    }\n",
       "</style>\n",
       "<table border=\"1\" class=\"dataframe\">\n",
       "  <thead>\n",
       "    <tr style=\"text-align: right;\">\n",
       "      <th></th>\n",
       "      <th>Unnamed: 0</th>\n",
       "      <th>Geography</th>\n",
       "      <th>Population mid-2018 (millions)</th>\n",
       "    </tr>\n",
       "  </thead>\n",
       "  <tbody>\n",
       "    <tr>\n",
       "      <th>0</th>\n",
       "      <td>1</td>\n",
       "      <td>Algeria</td>\n",
       "      <td>42.7</td>\n",
       "    </tr>\n",
       "  </tbody>\n",
       "</table>\n",
       "</div>"
      ],
      "text/plain": [
       "   Unnamed: 0 Geography Population mid-2018 (millions)\n",
       "0           1   Algeria                           42.7"
      ]
     },
     "execution_count": 29,
     "metadata": {},
     "output_type": "execute_result"
    }
   ],
   "source": [
    "#Reading from clean population data\n",
    "clean_popdata = pd.read_csv('data/generated_data/clean_population_data.csv')\n",
    "\n",
    "clean_popdata.head(1)"
   ]
  },
  {
   "cell_type": "markdown",
   "metadata": {},
   "source": [
    "#### Step 2: Deleting superfluous columns and renaming \"Geography\" to \"country\""
   ]
  },
  {
   "cell_type": "code",
   "execution_count": 30,
   "metadata": {},
   "outputs": [
    {
     "data": {
      "text/html": [
       "<div>\n",
       "<style scoped>\n",
       "    .dataframe tbody tr th:only-of-type {\n",
       "        vertical-align: middle;\n",
       "    }\n",
       "\n",
       "    .dataframe tbody tr th {\n",
       "        vertical-align: top;\n",
       "    }\n",
       "\n",
       "    .dataframe thead th {\n",
       "        text-align: right;\n",
       "    }\n",
       "</style>\n",
       "<table border=\"1\" class=\"dataframe\">\n",
       "  <thead>\n",
       "    <tr style=\"text-align: right;\">\n",
       "      <th></th>\n",
       "      <th>country</th>\n",
       "      <th>Population mid-2018 (millions)</th>\n",
       "    </tr>\n",
       "  </thead>\n",
       "  <tbody>\n",
       "    <tr>\n",
       "      <th>0</th>\n",
       "      <td>Algeria</td>\n",
       "      <td>42.7</td>\n",
       "    </tr>\n",
       "  </tbody>\n",
       "</table>\n",
       "</div>"
      ],
      "text/plain": [
       "   country Population mid-2018 (millions)\n",
       "0  Algeria                           42.7"
      ]
     },
     "execution_count": 30,
     "metadata": {},
     "output_type": "execute_result"
    }
   ],
   "source": [
    "del clean_popdata['Unnamed: 0']\n",
    "clean_popdata = clean_popdata.rename(columns={'Geography':'country'})\n",
    "clean_popdata.head(1)"
   ]
  },
  {
   "cell_type": "code",
   "execution_count": 31,
   "metadata": {},
   "outputs": [
    {
     "data": {
      "text/html": [
       "<div>\n",
       "<style scoped>\n",
       "    .dataframe tbody tr th:only-of-type {\n",
       "        vertical-align: middle;\n",
       "    }\n",
       "\n",
       "    .dataframe tbody tr th {\n",
       "        vertical-align: top;\n",
       "    }\n",
       "\n",
       "    .dataframe thead th {\n",
       "        text-align: right;\n",
       "    }\n",
       "</style>\n",
       "<table border=\"1\" class=\"dataframe\">\n",
       "  <thead>\n",
       "    <tr style=\"text-align: right;\">\n",
       "      <th></th>\n",
       "      <th>Unnamed: 0</th>\n",
       "      <th>page</th>\n",
       "      <th>country</th>\n",
       "      <th>rev_id</th>\n",
       "    </tr>\n",
       "  </thead>\n",
       "  <tbody>\n",
       "    <tr>\n",
       "      <th>0</th>\n",
       "      <td>1</td>\n",
       "      <td>Bir I of Kanem</td>\n",
       "      <td>Chad</td>\n",
       "      <td>355319463</td>\n",
       "    </tr>\n",
       "  </tbody>\n",
       "</table>\n",
       "</div>"
      ],
      "text/plain": [
       "   Unnamed: 0            page country     rev_id\n",
       "0           1  Bir I of Kanem    Chad  355319463"
      ]
     },
     "execution_count": 31,
     "metadata": {},
     "output_type": "execute_result"
    }
   ],
   "source": [
    "#Reading from clean political data\n",
    "clean_poldata = pd.read_csv('data/generated_data/clean_political_article_data.csv')\n",
    "\n",
    "clean_poldata.head(1)"
   ]
  },
  {
   "cell_type": "code",
   "execution_count": 32,
   "metadata": {},
   "outputs": [
    {
     "data": {
      "text/html": [
       "<div>\n",
       "<style scoped>\n",
       "    .dataframe tbody tr th:only-of-type {\n",
       "        vertical-align: middle;\n",
       "    }\n",
       "\n",
       "    .dataframe tbody tr th {\n",
       "        vertical-align: top;\n",
       "    }\n",
       "\n",
       "    .dataframe thead th {\n",
       "        text-align: right;\n",
       "    }\n",
       "</style>\n",
       "<table border=\"1\" class=\"dataframe\">\n",
       "  <thead>\n",
       "    <tr style=\"text-align: right;\">\n",
       "      <th></th>\n",
       "      <th>page</th>\n",
       "      <th>country</th>\n",
       "      <th>rev_id</th>\n",
       "    </tr>\n",
       "  </thead>\n",
       "  <tbody>\n",
       "    <tr>\n",
       "      <th>0</th>\n",
       "      <td>Bir I of Kanem</td>\n",
       "      <td>Chad</td>\n",
       "      <td>355319463</td>\n",
       "    </tr>\n",
       "  </tbody>\n",
       "</table>\n",
       "</div>"
      ],
      "text/plain": [
       "             page country     rev_id\n",
       "0  Bir I of Kanem    Chad  355319463"
      ]
     },
     "execution_count": 32,
     "metadata": {},
     "output_type": "execute_result"
    }
   ],
   "source": [
    "del clean_poldata['Unnamed: 0']\n",
    "\n",
    "clean_poldata.head(1)"
   ]
  },
  {
   "cell_type": "markdown",
   "metadata": {},
   "source": [
    "#### Now merging this data may lead us to losing some records (If there is no population data for a country/ no political article data for a country), looking at the shapes before merging:"
   ]
  },
  {
   "cell_type": "code",
   "execution_count": 33,
   "metadata": {},
   "outputs": [
    {
     "data": {
      "text/plain": [
       "(201, 2)"
      ]
     },
     "execution_count": 33,
     "metadata": {},
     "output_type": "execute_result"
    }
   ],
   "source": [
    "clean_popdata.shape"
   ]
  },
  {
   "cell_type": "code",
   "execution_count": 34,
   "metadata": {},
   "outputs": [
    {
     "data": {
      "text/plain": [
       "(46701, 3)"
      ]
     },
     "execution_count": 34,
     "metadata": {},
     "output_type": "execute_result"
    }
   ],
   "source": [
    "clean_poldata.shape"
   ]
  },
  {
   "cell_type": "markdown",
   "metadata": {},
   "source": [
    "#### Step 3: Before merging our prediction data we will maintain a list of countries that are left out of this analysis, by seeing which countries contain no population data/political data:"
   ]
  },
  {
   "cell_type": "code",
   "execution_count": 35,
   "metadata": {},
   "outputs": [],
   "source": [
    "pop_countries = clean_popdata.country.unique() #Get all unique countries for population data"
   ]
  },
  {
   "cell_type": "code",
   "execution_count": 36,
   "metadata": {},
   "outputs": [],
   "source": [
    "pol_countries = clean_poldata.country.unique() #Get all unique countries for political data"
   ]
  },
  {
   "cell_type": "code",
   "execution_count": 37,
   "metadata": {},
   "outputs": [],
   "source": [
    "missing_countries = []\n",
    "for a in pop_countries: #Check which countries do not have political data \n",
    "    if a not in pol_countries:\n",
    "        missing_countries.append(a)\n",
    "\n",
    "for a in pol_countries: #Check which countries do not have population data\n",
    "    if a not in pop_countries:\n",
    "        missing_countries.append(a)"
   ]
  },
  {
   "cell_type": "code",
   "execution_count": 38,
   "metadata": {
    "scrolled": true
   },
   "outputs": [
    {
     "data": {
      "text/plain": [
       "60"
      ]
     },
     "execution_count": 38,
     "metadata": {},
     "output_type": "execute_result"
    }
   ],
   "source": [
    "len(missing_countries)"
   ]
  },
  {
   "cell_type": "markdown",
   "metadata": {},
   "source": [
    "#### Now we will write these 60 countries into a csv"
   ]
  },
  {
   "cell_type": "code",
   "execution_count": 39,
   "metadata": {},
   "outputs": [],
   "source": [
    "missing_countries_df = pd.DataFrame(missing_countries) # Writing missing countries into a dataframe"
   ]
  },
  {
   "cell_type": "code",
   "execution_count": 40,
   "metadata": {},
   "outputs": [],
   "source": [
    "missing_countries_df = missing_countries_df.rename(columns={0:\"countries\"}) #Renaming columns"
   ]
  },
  {
   "cell_type": "code",
   "execution_count": 41,
   "metadata": {},
   "outputs": [],
   "source": [
    "missing_countries_df.to_csv('data/generated_data/wp_wpds_countries-no_match.csv') #Writing to csv"
   ]
  },
  {
   "cell_type": "markdown",
   "metadata": {},
   "source": [
    "#### Step 4: Merge our clean political article data and population data"
   ]
  },
  {
   "cell_type": "code",
   "execution_count": 42,
   "metadata": {},
   "outputs": [],
   "source": [
    "merged_data = pd.merge(clean_poldata,clean_popdata,on=\"country\",how=\"inner\")"
   ]
  },
  {
   "cell_type": "markdown",
   "metadata": {},
   "source": [
    "Shape after merging:"
   ]
  },
  {
   "cell_type": "code",
   "execution_count": 43,
   "metadata": {
    "scrolled": true
   },
   "outputs": [
    {
     "data": {
      "text/plain": [
       "(44618, 4)"
      ]
     },
     "execution_count": 43,
     "metadata": {},
     "output_type": "execute_result"
    }
   ],
   "source": [
    "merged_data.shape"
   ]
  },
  {
   "cell_type": "markdown",
   "metadata": {},
   "source": [
    "### 2) Merging this intermediate data with prediction data\n",
    "#### Step 1: Load predictions data"
   ]
  },
  {
   "cell_type": "code",
   "execution_count": 44,
   "metadata": {},
   "outputs": [],
   "source": [
    "pred_data = pd.read_csv('data/generated_data/quality_prediction.csv')"
   ]
  },
  {
   "cell_type": "code",
   "execution_count": 45,
   "metadata": {},
   "outputs": [
    {
     "data": {
      "text/html": [
       "<div>\n",
       "<style scoped>\n",
       "    .dataframe tbody tr th:only-of-type {\n",
       "        vertical-align: middle;\n",
       "    }\n",
       "\n",
       "    .dataframe tbody tr th {\n",
       "        vertical-align: top;\n",
       "    }\n",
       "\n",
       "    .dataframe thead th {\n",
       "        text-align: right;\n",
       "    }\n",
       "</style>\n",
       "<table border=\"1\" class=\"dataframe\">\n",
       "  <thead>\n",
       "    <tr style=\"text-align: right;\">\n",
       "      <th></th>\n",
       "      <th>rev_id</th>\n",
       "      <th>prediction</th>\n",
       "    </tr>\n",
       "  </thead>\n",
       "  <tbody>\n",
       "    <tr>\n",
       "      <th>0</th>\n",
       "      <td>355319463</td>\n",
       "      <td>Stub</td>\n",
       "    </tr>\n",
       "  </tbody>\n",
       "</table>\n",
       "</div>"
      ],
      "text/plain": [
       "      rev_id prediction\n",
       "0  355319463       Stub"
      ]
     },
     "execution_count": 45,
     "metadata": {},
     "output_type": "execute_result"
    }
   ],
   "source": [
    "del pred_data['Unnamed: 0'] #removing superfluous columns\n",
    "\n",
    "pred_data.head(1)"
   ]
  },
  {
   "cell_type": "code",
   "execution_count": 46,
   "metadata": {},
   "outputs": [],
   "source": [
    "merged_data = pd.merge(merged_data,pred_data,on=\"rev_id\",how=\"inner\")"
   ]
  },
  {
   "cell_type": "code",
   "execution_count": 47,
   "metadata": {},
   "outputs": [
    {
     "data": {
      "text/html": [
       "<div>\n",
       "<style scoped>\n",
       "    .dataframe tbody tr th:only-of-type {\n",
       "        vertical-align: middle;\n",
       "    }\n",
       "\n",
       "    .dataframe tbody tr th {\n",
       "        vertical-align: top;\n",
       "    }\n",
       "\n",
       "    .dataframe thead th {\n",
       "        text-align: right;\n",
       "    }\n",
       "</style>\n",
       "<table border=\"1\" class=\"dataframe\">\n",
       "  <thead>\n",
       "    <tr style=\"text-align: right;\">\n",
       "      <th></th>\n",
       "      <th>page</th>\n",
       "      <th>country</th>\n",
       "      <th>rev_id</th>\n",
       "      <th>Population mid-2018 (millions)</th>\n",
       "      <th>prediction</th>\n",
       "    </tr>\n",
       "  </thead>\n",
       "  <tbody>\n",
       "    <tr>\n",
       "      <th>0</th>\n",
       "      <td>Bir I of Kanem</td>\n",
       "      <td>Chad</td>\n",
       "      <td>355319463</td>\n",
       "      <td>15.4</td>\n",
       "      <td>Stub</td>\n",
       "    </tr>\n",
       "  </tbody>\n",
       "</table>\n",
       "</div>"
      ],
      "text/plain": [
       "             page country     rev_id Population mid-2018 (millions) prediction\n",
       "0  Bir I of Kanem    Chad  355319463                           15.4       Stub"
      ]
     },
     "execution_count": 47,
     "metadata": {},
     "output_type": "execute_result"
    }
   ],
   "source": [
    "merged_data.head(1)"
   ]
  },
  {
   "cell_type": "markdown",
   "metadata": {},
   "source": [
    "#### Step 2: We will write this data into a csv file for further analysis"
   ]
  },
  {
   "cell_type": "code",
   "execution_count": 48,
   "metadata": {},
   "outputs": [],
   "source": [
    "merged_data.to_csv('data/generated_data/wp_wpds_politicians_by_country.csv')"
   ]
  },
  {
   "cell_type": "markdown",
   "metadata": {},
   "source": [
    "## Data Analysis\n",
    "\n",
    "We want to analyze this data based on\n",
    "\n",
    "    1) percentage of high quality articles out of total articles in a country\n",
    "    \n",
    "    2) percentage of articles to population in a country\n",
    "    \n",
    "    3) percentage of articles to region population\n",
    "    \n",
    "Now the ORES API ([documentation](https://www.mediawiki.org/wiki/ORES)) categorizes each article as :\n",
    "\n",
    "    1) FA - Featured article\n",
    "    2) GA - Good article\n",
    "    3) B - B-class article\n",
    "    4) C - C-class article\n",
    "    5) Start - Start-class article\n",
    "    6) Stub - Stub-class article\n",
    "    \n",
    "We will take the first two categories to mean a \"high quality article\"\n",
    "\n",
    "### In the first half of this analysis we will calculate the percentages and store them in a data frame\n",
    "\n",
    "#### Step 1: Read data from csv"
   ]
  },
  {
   "cell_type": "code",
   "execution_count": 49,
   "metadata": {},
   "outputs": [],
   "source": [
    "data = pd.read_csv('data/generated_data/wp_wpds_politicians_by_country.csv')"
   ]
  },
  {
   "cell_type": "code",
   "execution_count": 50,
   "metadata": {},
   "outputs": [
    {
     "data": {
      "text/html": [
       "<div>\n",
       "<style scoped>\n",
       "    .dataframe tbody tr th:only-of-type {\n",
       "        vertical-align: middle;\n",
       "    }\n",
       "\n",
       "    .dataframe tbody tr th {\n",
       "        vertical-align: top;\n",
       "    }\n",
       "\n",
       "    .dataframe thead th {\n",
       "        text-align: right;\n",
       "    }\n",
       "</style>\n",
       "<table border=\"1\" class=\"dataframe\">\n",
       "  <thead>\n",
       "    <tr style=\"text-align: right;\">\n",
       "      <th></th>\n",
       "      <th>page</th>\n",
       "      <th>country</th>\n",
       "      <th>rev_id</th>\n",
       "      <th>Population mid-2018 (millions)</th>\n",
       "      <th>prediction</th>\n",
       "    </tr>\n",
       "  </thead>\n",
       "  <tbody>\n",
       "    <tr>\n",
       "      <th>0</th>\n",
       "      <td>Bir I of Kanem</td>\n",
       "      <td>Chad</td>\n",
       "      <td>355319463</td>\n",
       "      <td>15.4</td>\n",
       "      <td>Stub</td>\n",
       "    </tr>\n",
       "  </tbody>\n",
       "</table>\n",
       "</div>"
      ],
      "text/plain": [
       "             page country     rev_id Population mid-2018 (millions) prediction\n",
       "0  Bir I of Kanem    Chad  355319463                           15.4       Stub"
      ]
     },
     "execution_count": 50,
     "metadata": {},
     "output_type": "execute_result"
    }
   ],
   "source": [
    "#Remove superfluous columns\n",
    "\n",
    "del data['Unnamed: 0']\n",
    "\n",
    "data.head(1)"
   ]
  },
  {
   "cell_type": "markdown",
   "metadata": {},
   "source": [
    "#### Step 2: Store tuples with prediction \"FA\" or \"GA\" in a separate dataframe"
   ]
  },
  {
   "cell_type": "code",
   "execution_count": 51,
   "metadata": {},
   "outputs": [],
   "source": [
    "highquality_FA = data[data.prediction == 'FA']"
   ]
  },
  {
   "cell_type": "code",
   "execution_count": 52,
   "metadata": {},
   "outputs": [],
   "source": [
    "highquality_GA = data[data.prediction == 'GA']"
   ]
  },
  {
   "cell_type": "code",
   "execution_count": 53,
   "metadata": {},
   "outputs": [],
   "source": [
    "highquality_df = pd.concat([highquality_FA,highquality_GA],axis=0) #concatenate data one after the other"
   ]
  },
  {
   "cell_type": "markdown",
   "metadata": {},
   "source": [
    "#### Step 3: Count of high quality articles by country"
   ]
  },
  {
   "cell_type": "code",
   "execution_count": 54,
   "metadata": {},
   "outputs": [],
   "source": [
    "highquality_df = highquality_df.groupby('country').count()[['rev_id']] #Grouping by country we get \n",
    "                                                                       #the count of articles for each country\n"
   ]
  },
  {
   "cell_type": "markdown",
   "metadata": {},
   "source": [
    "#### Step 4. Renaming rev_id to article count and sorting by article count we get:"
   ]
  },
  {
   "cell_type": "code",
   "execution_count": 55,
   "metadata": {},
   "outputs": [],
   "source": [
    "highquality_df = highquality_df.rename(columns={\"rev_id\":\"Num of highquality articles\"})\n",
    "highquality_df = highquality_df.sort_values('Num of highquality articles',ascending = False)"
   ]
  },
  {
   "cell_type": "code",
   "execution_count": 56,
   "metadata": {},
   "outputs": [
    {
     "data": {
      "text/html": [
       "<div>\n",
       "<style scoped>\n",
       "    .dataframe tbody tr th:only-of-type {\n",
       "        vertical-align: middle;\n",
       "    }\n",
       "\n",
       "    .dataframe tbody tr th {\n",
       "        vertical-align: top;\n",
       "    }\n",
       "\n",
       "    .dataframe thead th {\n",
       "        text-align: right;\n",
       "    }\n",
       "</style>\n",
       "<table border=\"1\" class=\"dataframe\">\n",
       "  <thead>\n",
       "    <tr style=\"text-align: right;\">\n",
       "      <th></th>\n",
       "      <th>Num of highquality articles</th>\n",
       "    </tr>\n",
       "    <tr>\n",
       "      <th>country</th>\n",
       "      <th></th>\n",
       "    </tr>\n",
       "  </thead>\n",
       "  <tbody>\n",
       "    <tr>\n",
       "      <th>United States</th>\n",
       "      <td>77</td>\n",
       "    </tr>\n",
       "    <tr>\n",
       "      <th>United Kingdom</th>\n",
       "      <td>54</td>\n",
       "    </tr>\n",
       "    <tr>\n",
       "      <th>China</th>\n",
       "      <td>41</td>\n",
       "    </tr>\n",
       "    <tr>\n",
       "      <th>Romania</th>\n",
       "      <td>39</td>\n",
       "    </tr>\n",
       "    <tr>\n",
       "      <th>Australia</th>\n",
       "      <td>39</td>\n",
       "    </tr>\n",
       "    <tr>\n",
       "      <th>Spain</th>\n",
       "      <td>35</td>\n",
       "    </tr>\n",
       "    <tr>\n",
       "      <th>Russia</th>\n",
       "      <td>29</td>\n",
       "    </tr>\n",
       "    <tr>\n",
       "      <th>France</th>\n",
       "      <td>23</td>\n",
       "    </tr>\n",
       "    <tr>\n",
       "      <th>Canada</th>\n",
       "      <td>22</td>\n",
       "    </tr>\n",
       "    <tr>\n",
       "      <th>Ireland</th>\n",
       "      <td>21</td>\n",
       "    </tr>\n",
       "  </tbody>\n",
       "</table>\n",
       "</div>"
      ],
      "text/plain": [
       "                Num of highquality articles\n",
       "country                                    \n",
       "United States                            77\n",
       "United Kingdom                           54\n",
       "China                                    41\n",
       "Romania                                  39\n",
       "Australia                                39\n",
       "Spain                                    35\n",
       "Russia                                   29\n",
       "France                                   23\n",
       "Canada                                   22\n",
       "Ireland                                  21"
      ]
     },
     "execution_count": 56,
     "metadata": {},
     "output_type": "execute_result"
    }
   ],
   "source": [
    "highquality_df.head(10)"
   ]
  },
  {
   "cell_type": "markdown",
   "metadata": {},
   "source": [
    "Thus we have the top 10 countries with high quality articles as listed above \n",
    "(Note: this is without factoring in population), thus if an ORES user was to just analyze articles based on this data they would not take into account the overall population/ the overall number of articles generated from a country"
   ]
  },
  {
   "cell_type": "markdown",
   "metadata": {},
   "source": [
    "### Now let us look at this in proportion to the total number of articles"
   ]
  },
  {
   "cell_type": "markdown",
   "metadata": {},
   "source": [
    "#### Step 1: Get total count of articles for a country"
   ]
  },
  {
   "cell_type": "code",
   "execution_count": 57,
   "metadata": {},
   "outputs": [],
   "source": [
    "allquality_df = data.groupby('country').count()[['rev_id']]"
   ]
  },
  {
   "cell_type": "markdown",
   "metadata": {},
   "source": [
    "#### Step 2: Renaming rev_id to article count and sorting by article count we get:"
   ]
  },
  {
   "cell_type": "code",
   "execution_count": 58,
   "metadata": {},
   "outputs": [],
   "source": [
    "allquality_df = allquality_df.rename(columns={\"rev_id\":\"Num of articles\"})\n",
    "allquality_df = allquality_df.sort_values('Num of articles',ascending = False)"
   ]
  },
  {
   "cell_type": "code",
   "execution_count": 59,
   "metadata": {},
   "outputs": [
    {
     "data": {
      "text/html": [
       "<div>\n",
       "<style scoped>\n",
       "    .dataframe tbody tr th:only-of-type {\n",
       "        vertical-align: middle;\n",
       "    }\n",
       "\n",
       "    .dataframe tbody tr th {\n",
       "        vertical-align: top;\n",
       "    }\n",
       "\n",
       "    .dataframe thead th {\n",
       "        text-align: right;\n",
       "    }\n",
       "</style>\n",
       "<table border=\"1\" class=\"dataframe\">\n",
       "  <thead>\n",
       "    <tr style=\"text-align: right;\">\n",
       "      <th></th>\n",
       "      <th>Num of articles</th>\n",
       "    </tr>\n",
       "    <tr>\n",
       "      <th>country</th>\n",
       "      <th></th>\n",
       "    </tr>\n",
       "  </thead>\n",
       "  <tbody>\n",
       "    <tr>\n",
       "      <th>France</th>\n",
       "      <td>1654</td>\n",
       "    </tr>\n",
       "    <tr>\n",
       "      <th>Australia</th>\n",
       "      <td>1544</td>\n",
       "    </tr>\n",
       "    <tr>\n",
       "      <th>China</th>\n",
       "      <td>1114</td>\n",
       "    </tr>\n",
       "    <tr>\n",
       "      <th>Mexico</th>\n",
       "      <td>1064</td>\n",
       "    </tr>\n",
       "    <tr>\n",
       "      <th>United States</th>\n",
       "      <td>1061</td>\n",
       "    </tr>\n",
       "    <tr>\n",
       "      <th>Pakistan</th>\n",
       "      <td>1011</td>\n",
       "    </tr>\n",
       "    <tr>\n",
       "      <th>India</th>\n",
       "      <td>970</td>\n",
       "    </tr>\n",
       "    <tr>\n",
       "      <th>Russia</th>\n",
       "      <td>865</td>\n",
       "    </tr>\n",
       "    <tr>\n",
       "      <th>Spain</th>\n",
       "      <td>864</td>\n",
       "    </tr>\n",
       "    <tr>\n",
       "      <th>United Kingdom</th>\n",
       "      <td>848</td>\n",
       "    </tr>\n",
       "  </tbody>\n",
       "</table>\n",
       "</div>"
      ],
      "text/plain": [
       "                Num of articles\n",
       "country                        \n",
       "France                     1654\n",
       "Australia                  1544\n",
       "China                      1114\n",
       "Mexico                     1064\n",
       "United States              1061\n",
       "Pakistan                   1011\n",
       "India                       970\n",
       "Russia                      865\n",
       "Spain                       864\n",
       "United Kingdom              848"
      ]
     },
     "execution_count": 59,
     "metadata": {},
     "output_type": "execute_result"
    }
   ],
   "source": [
    "allquality_df.head(10)"
   ]
  },
  {
   "cell_type": "markdown",
   "metadata": {},
   "source": [
    "#### Step 3: Merging this data we get:"
   ]
  },
  {
   "cell_type": "code",
   "execution_count": 60,
   "metadata": {},
   "outputs": [],
   "source": [
    "merged_data = pd.merge(highquality_df,allquality_df,on=\"country\",how=\"outer\")"
   ]
  },
  {
   "cell_type": "code",
   "execution_count": 61,
   "metadata": {},
   "outputs": [
    {
     "data": {
      "text/html": [
       "<div>\n",
       "<style scoped>\n",
       "    .dataframe tbody tr th:only-of-type {\n",
       "        vertical-align: middle;\n",
       "    }\n",
       "\n",
       "    .dataframe tbody tr th {\n",
       "        vertical-align: top;\n",
       "    }\n",
       "\n",
       "    .dataframe thead th {\n",
       "        text-align: right;\n",
       "    }\n",
       "</style>\n",
       "<table border=\"1\" class=\"dataframe\">\n",
       "  <thead>\n",
       "    <tr style=\"text-align: right;\">\n",
       "      <th></th>\n",
       "      <th>Num of highquality articles</th>\n",
       "      <th>Num of articles</th>\n",
       "    </tr>\n",
       "    <tr>\n",
       "      <th>country</th>\n",
       "      <th></th>\n",
       "      <th></th>\n",
       "    </tr>\n",
       "  </thead>\n",
       "  <tbody>\n",
       "    <tr>\n",
       "      <th>United States</th>\n",
       "      <td>77.0</td>\n",
       "      <td>1061</td>\n",
       "    </tr>\n",
       "  </tbody>\n",
       "</table>\n",
       "</div>"
      ],
      "text/plain": [
       "               Num of highquality articles  Num of articles\n",
       "country                                                    \n",
       "United States                         77.0             1061"
      ]
     },
     "execution_count": 61,
     "metadata": {},
     "output_type": "execute_result"
    }
   ],
   "source": [
    "merged_data.head(1)"
   ]
  },
  {
   "cell_type": "code",
   "execution_count": 62,
   "metadata": {},
   "outputs": [],
   "source": [
    "merged_data = merged_data.fillna(0) #Some countries have no high quality articles, thus fill NaN values with 0"
   ]
  },
  {
   "cell_type": "code",
   "execution_count": 63,
   "metadata": {},
   "outputs": [],
   "source": [
    "merged_data['percentage of highquality to total'] = merged_data['Num of highquality articles']*100/merged_data['Num of articles']"
   ]
  },
  {
   "cell_type": "code",
   "execution_count": 64,
   "metadata": {},
   "outputs": [
    {
     "data": {
      "text/html": [
       "<div>\n",
       "<style scoped>\n",
       "    .dataframe tbody tr th:only-of-type {\n",
       "        vertical-align: middle;\n",
       "    }\n",
       "\n",
       "    .dataframe tbody tr th {\n",
       "        vertical-align: top;\n",
       "    }\n",
       "\n",
       "    .dataframe thead th {\n",
       "        text-align: right;\n",
       "    }\n",
       "</style>\n",
       "<table border=\"1\" class=\"dataframe\">\n",
       "  <thead>\n",
       "    <tr style=\"text-align: right;\">\n",
       "      <th></th>\n",
       "      <th>Num of highquality articles</th>\n",
       "      <th>Num of articles</th>\n",
       "      <th>percentage of highquality to total</th>\n",
       "    </tr>\n",
       "    <tr>\n",
       "      <th>country</th>\n",
       "      <th></th>\n",
       "      <th></th>\n",
       "      <th></th>\n",
       "    </tr>\n",
       "  </thead>\n",
       "  <tbody>\n",
       "    <tr>\n",
       "      <th>United States</th>\n",
       "      <td>77.0</td>\n",
       "      <td>1061</td>\n",
       "      <td>7.257304</td>\n",
       "    </tr>\n",
       "    <tr>\n",
       "      <th>United Kingdom</th>\n",
       "      <td>54.0</td>\n",
       "      <td>848</td>\n",
       "      <td>6.367925</td>\n",
       "    </tr>\n",
       "    <tr>\n",
       "      <th>China</th>\n",
       "      <td>41.0</td>\n",
       "      <td>1114</td>\n",
       "      <td>3.680431</td>\n",
       "    </tr>\n",
       "    <tr>\n",
       "      <th>Romania</th>\n",
       "      <td>39.0</td>\n",
       "      <td>340</td>\n",
       "      <td>11.470588</td>\n",
       "    </tr>\n",
       "    <tr>\n",
       "      <th>Australia</th>\n",
       "      <td>39.0</td>\n",
       "      <td>1544</td>\n",
       "      <td>2.525907</td>\n",
       "    </tr>\n",
       "  </tbody>\n",
       "</table>\n",
       "</div>"
      ],
      "text/plain": [
       "                Num of highquality articles  Num of articles  \\\n",
       "country                                                        \n",
       "United States                          77.0             1061   \n",
       "United Kingdom                         54.0              848   \n",
       "China                                  41.0             1114   \n",
       "Romania                                39.0              340   \n",
       "Australia                              39.0             1544   \n",
       "\n",
       "                percentage of highquality to total  \n",
       "country                                             \n",
       "United States                             7.257304  \n",
       "United Kingdom                            6.367925  \n",
       "China                                     3.680431  \n",
       "Romania                                  11.470588  \n",
       "Australia                                 2.525907  "
      ]
     },
     "execution_count": 64,
     "metadata": {},
     "output_type": "execute_result"
    }
   ],
   "source": [
    "merged_data.head()"
   ]
  },
  {
   "cell_type": "markdown",
   "metadata": {},
   "source": [
    "### Adding population data to this merged_data\n",
    "\n",
    "#### Step 1. Getting population by country as a numeric value"
   ]
  },
  {
   "cell_type": "code",
   "execution_count": 65,
   "metadata": {},
   "outputs": [],
   "source": [
    "data = data.rename(columns={\"Population mid-2018 (millions)\":\"population\"})\n",
    "data[\"population\"] = data[\"population\"].apply(lambda s: s.replace(\",\", \"\"))\n",
    "data['population'] = pd.to_numeric(data['population'],errors='coerce')*1000000 # Convert to numeric"
   ]
  },
  {
   "cell_type": "code",
   "execution_count": 66,
   "metadata": {},
   "outputs": [],
   "source": [
    "population_data = data.groupby('country').mean()[['population']] #Getting population for each country"
   ]
  },
  {
   "cell_type": "code",
   "execution_count": 67,
   "metadata": {},
   "outputs": [
    {
     "data": {
      "text/html": [
       "<div>\n",
       "<style scoped>\n",
       "    .dataframe tbody tr th:only-of-type {\n",
       "        vertical-align: middle;\n",
       "    }\n",
       "\n",
       "    .dataframe tbody tr th {\n",
       "        vertical-align: top;\n",
       "    }\n",
       "\n",
       "    .dataframe thead th {\n",
       "        text-align: right;\n",
       "    }\n",
       "</style>\n",
       "<table border=\"1\" class=\"dataframe\">\n",
       "  <thead>\n",
       "    <tr style=\"text-align: right;\">\n",
       "      <th></th>\n",
       "      <th>population</th>\n",
       "    </tr>\n",
       "    <tr>\n",
       "      <th>country</th>\n",
       "      <th></th>\n",
       "    </tr>\n",
       "  </thead>\n",
       "  <tbody>\n",
       "    <tr>\n",
       "      <th>Afghanistan</th>\n",
       "      <td>36500000.0</td>\n",
       "    </tr>\n",
       "  </tbody>\n",
       "</table>\n",
       "</div>"
      ],
      "text/plain": [
       "             population\n",
       "country                \n",
       "Afghanistan  36500000.0"
      ]
     },
     "execution_count": 67,
     "metadata": {},
     "output_type": "execute_result"
    }
   ],
   "source": [
    "population_data.head(1)"
   ]
  },
  {
   "cell_type": "markdown",
   "metadata": {},
   "source": [
    "#### Step 2. Merging this with existing article data"
   ]
  },
  {
   "cell_type": "code",
   "execution_count": 68,
   "metadata": {},
   "outputs": [
    {
     "data": {
      "text/html": [
       "<div>\n",
       "<style scoped>\n",
       "    .dataframe tbody tr th:only-of-type {\n",
       "        vertical-align: middle;\n",
       "    }\n",
       "\n",
       "    .dataframe tbody tr th {\n",
       "        vertical-align: top;\n",
       "    }\n",
       "\n",
       "    .dataframe thead th {\n",
       "        text-align: right;\n",
       "    }\n",
       "</style>\n",
       "<table border=\"1\" class=\"dataframe\">\n",
       "  <thead>\n",
       "    <tr style=\"text-align: right;\">\n",
       "      <th></th>\n",
       "      <th>Num of highquality articles</th>\n",
       "      <th>Num of articles</th>\n",
       "      <th>percentage of highquality to total</th>\n",
       "      <th>population</th>\n",
       "    </tr>\n",
       "    <tr>\n",
       "      <th>country</th>\n",
       "      <th></th>\n",
       "      <th></th>\n",
       "      <th></th>\n",
       "      <th></th>\n",
       "    </tr>\n",
       "  </thead>\n",
       "  <tbody>\n",
       "    <tr>\n",
       "      <th>United States</th>\n",
       "      <td>77.0</td>\n",
       "      <td>1061</td>\n",
       "      <td>7.257304</td>\n",
       "      <td>3.280000e+08</td>\n",
       "    </tr>\n",
       "    <tr>\n",
       "      <th>United Kingdom</th>\n",
       "      <td>54.0</td>\n",
       "      <td>848</td>\n",
       "      <td>6.367925</td>\n",
       "      <td>6.640000e+07</td>\n",
       "    </tr>\n",
       "    <tr>\n",
       "      <th>China</th>\n",
       "      <td>41.0</td>\n",
       "      <td>1114</td>\n",
       "      <td>3.680431</td>\n",
       "      <td>1.393800e+09</td>\n",
       "    </tr>\n",
       "    <tr>\n",
       "      <th>Romania</th>\n",
       "      <td>39.0</td>\n",
       "      <td>340</td>\n",
       "      <td>11.470588</td>\n",
       "      <td>1.950000e+07</td>\n",
       "    </tr>\n",
       "    <tr>\n",
       "      <th>Australia</th>\n",
       "      <td>39.0</td>\n",
       "      <td>1544</td>\n",
       "      <td>2.525907</td>\n",
       "      <td>2.410000e+07</td>\n",
       "    </tr>\n",
       "  </tbody>\n",
       "</table>\n",
       "</div>"
      ],
      "text/plain": [
       "                Num of highquality articles  Num of articles  \\\n",
       "country                                                        \n",
       "United States                          77.0             1061   \n",
       "United Kingdom                         54.0              848   \n",
       "China                                  41.0             1114   \n",
       "Romania                                39.0              340   \n",
       "Australia                              39.0             1544   \n",
       "\n",
       "                percentage of highquality to total    population  \n",
       "country                                                           \n",
       "United States                             7.257304  3.280000e+08  \n",
       "United Kingdom                            6.367925  6.640000e+07  \n",
       "China                                     3.680431  1.393800e+09  \n",
       "Romania                                  11.470588  1.950000e+07  \n",
       "Australia                                 2.525907  2.410000e+07  "
      ]
     },
     "execution_count": 68,
     "metadata": {},
     "output_type": "execute_result"
    }
   ],
   "source": [
    "final_data = pd.merge(merged_data,population_data,on=\"country\",how=\"outer\")\n",
    "final_data.head()"
   ]
  },
  {
   "cell_type": "markdown",
   "metadata": {},
   "source": [
    "#### Step 3. Getting percentage of articles to population"
   ]
  },
  {
   "cell_type": "code",
   "execution_count": 69,
   "metadata": {},
   "outputs": [],
   "source": [
    "final_data['percentage of articles to population'] = final_data['Num of articles']*100/final_data['population']"
   ]
  },
  {
   "cell_type": "code",
   "execution_count": 70,
   "metadata": {},
   "outputs": [
    {
     "data": {
      "text/html": [
       "<div>\n",
       "<style scoped>\n",
       "    .dataframe tbody tr th:only-of-type {\n",
       "        vertical-align: middle;\n",
       "    }\n",
       "\n",
       "    .dataframe tbody tr th {\n",
       "        vertical-align: top;\n",
       "    }\n",
       "\n",
       "    .dataframe thead th {\n",
       "        text-align: right;\n",
       "    }\n",
       "</style>\n",
       "<table border=\"1\" class=\"dataframe\">\n",
       "  <thead>\n",
       "    <tr style=\"text-align: right;\">\n",
       "      <th></th>\n",
       "      <th>Num of highquality articles</th>\n",
       "      <th>Num of articles</th>\n",
       "      <th>percentage of highquality to total</th>\n",
       "      <th>population</th>\n",
       "      <th>percentage of articles to population</th>\n",
       "    </tr>\n",
       "    <tr>\n",
       "      <th>country</th>\n",
       "      <th></th>\n",
       "      <th></th>\n",
       "      <th></th>\n",
       "      <th></th>\n",
       "      <th></th>\n",
       "    </tr>\n",
       "  </thead>\n",
       "  <tbody>\n",
       "    <tr>\n",
       "      <th>United States</th>\n",
       "      <td>77.0</td>\n",
       "      <td>1061</td>\n",
       "      <td>7.257304</td>\n",
       "      <td>3.280000e+08</td>\n",
       "      <td>0.000323</td>\n",
       "    </tr>\n",
       "    <tr>\n",
       "      <th>United Kingdom</th>\n",
       "      <td>54.0</td>\n",
       "      <td>848</td>\n",
       "      <td>6.367925</td>\n",
       "      <td>6.640000e+07</td>\n",
       "      <td>0.001277</td>\n",
       "    </tr>\n",
       "    <tr>\n",
       "      <th>China</th>\n",
       "      <td>41.0</td>\n",
       "      <td>1114</td>\n",
       "      <td>3.680431</td>\n",
       "      <td>1.393800e+09</td>\n",
       "      <td>0.000080</td>\n",
       "    </tr>\n",
       "    <tr>\n",
       "      <th>Romania</th>\n",
       "      <td>39.0</td>\n",
       "      <td>340</td>\n",
       "      <td>11.470588</td>\n",
       "      <td>1.950000e+07</td>\n",
       "      <td>0.001744</td>\n",
       "    </tr>\n",
       "    <tr>\n",
       "      <th>Australia</th>\n",
       "      <td>39.0</td>\n",
       "      <td>1544</td>\n",
       "      <td>2.525907</td>\n",
       "      <td>2.410000e+07</td>\n",
       "      <td>0.006407</td>\n",
       "    </tr>\n",
       "  </tbody>\n",
       "</table>\n",
       "</div>"
      ],
      "text/plain": [
       "                Num of highquality articles  Num of articles  \\\n",
       "country                                                        \n",
       "United States                          77.0             1061   \n",
       "United Kingdom                         54.0              848   \n",
       "China                                  41.0             1114   \n",
       "Romania                                39.0              340   \n",
       "Australia                              39.0             1544   \n",
       "\n",
       "                percentage of highquality to total    population  \\\n",
       "country                                                            \n",
       "United States                             7.257304  3.280000e+08   \n",
       "United Kingdom                            6.367925  6.640000e+07   \n",
       "China                                     3.680431  1.393800e+09   \n",
       "Romania                                  11.470588  1.950000e+07   \n",
       "Australia                                 2.525907  2.410000e+07   \n",
       "\n",
       "                percentage of articles to population  \n",
       "country                                               \n",
       "United States                               0.000323  \n",
       "United Kingdom                              0.001277  \n",
       "China                                       0.000080  \n",
       "Romania                                     0.001744  \n",
       "Australia                                   0.006407  "
      ]
     },
     "execution_count": 70,
     "metadata": {},
     "output_type": "execute_result"
    }
   ],
   "source": [
    "#The following code is to simplify the region specific calculations done in Step 4.\n",
    "final_data.index.name = 'country'\n",
    "final_data.reset_index(inplace=True)\n",
    "final_data.head()"
   ]
  },
  {
   "cell_type": "markdown",
   "metadata": {},
   "source": [
    "#### Step 4. Loading region specific data"
   ]
  },
  {
   "cell_type": "code",
   "execution_count": 118,
   "metadata": {},
   "outputs": [],
   "source": [
    "region_data = pd.read_csv('data/generated_data/cumulative_population.csv')"
   ]
  },
  {
   "cell_type": "code",
   "execution_count": 119,
   "metadata": {},
   "outputs": [],
   "source": [
    "del region_data['Unnamed: 0'] #removing superfluous columns"
   ]
  },
  {
   "attachments": {},
   "cell_type": "markdown",
   "metadata": {},
   "source": [
    "Now from the data structure we have the following countries falling under each region:\n",
    "\n",
    "- AFRICA:\n",
    "    Algeria,\n",
    "    Egypt,\n",
    "    Libya,\n",
    "    Morocco,\n",
    "    Sudan,\n",
    "    Tunisia,\n",
    "    Western Sahara,\n",
    "    Benin,\n",
    "    Burkina Faso,\n",
    "    Cape Verde,\n",
    "    Cote d'Ivoire,\n",
    "    Gambia,\n",
    "    Ghana,\n",
    "    Guinea,\n",
    "    Guinea-Bissau,\n",
    "    Liberia,\n",
    "    Mali\n",
    "    ,Mauritania\n",
    "    ,Niger\n",
    "    ,Nigeria\n",
    "    ,Senegal\n",
    "    ,Sierra Leone\n",
    "    ,Togo\n",
    "    ,Burundi\n",
    "    ,Comoros\n",
    "    ,Djibouti\n",
    "    ,Eritrea\n",
    "    ,Ethiopia\n",
    "    ,Kenya\n",
    "    ,Madagascar\n",
    "    ,Malawi\n",
    "    ,Mauritius\n",
    "    ,Mozambique\n",
    "    ,Rwanda\n",
    "    ,Seychelles\n",
    "    ,Somalia\n",
    "    ,South Sudan\n",
    "    ,Tanzania\n",
    "    ,Uganda\n",
    "    ,Zambia\n",
    "    ,Zimbabwe\n",
    "    ,Angola\n",
    "    ,Cameroon\n",
    "    ,Central African Republic\n",
    "    ,Chad\n",
    "    ,Congo\n",
    "    ,Congo, Dem. Rep.\n",
    "    ,Equatorial Guinea\n",
    "    ,Gabon\n",
    "    ,Sao Tome and Principe\n",
    "    ,Botswana\n",
    "    ,eSwatini\n",
    "    ,Lesotho\n",
    "    ,Namibia\n",
    "    ,South Africa\n",
    "    \n",
    "- NORTHERN AMERICA:\n",
    "    Canada, United States\n",
    "\n",
    "- LATIN AMERICA AND THE CARIBBEAN:\n",
    "    Belize\n",
    "    ,Costa Rica\n",
    "    ,El Salvador\n",
    "    ,Guatemala\n",
    "    ,Honduras\n",
    "    ,Mexico\n",
    "    ,Nicaragua\n",
    "    ,Panama\n",
    "    ,Antigua and Barbuda\n",
    "    ,Bahamas\n",
    "    ,Barbados\n",
    "    ,Cuba\n",
    "    ,Curacao\n",
    "    ,Dominica\n",
    "    ,Dominican Republic\n",
    "    ,Grenada\n",
    "    ,Haiti\n",
    "    ,Jamaica\n",
    "    ,Puerto Rico\n",
    "    ,St. Kitts-Nevis\n",
    "    ,Saint Lucia\n",
    "    ,St. Vincent and the Grenadines\n",
    "    ,Trinidad and Tobago\n",
    "    ,Argentina\n",
    "    ,Bolivia\n",
    "    ,Brazil\n",
    "    ,Chile\n",
    "    ,Colombia\n",
    "    ,Ecuador\n",
    "    ,Guyana\n",
    "    ,Paraguay\n",
    "    ,Peru\n",
    "    ,Suriname\n",
    "    ,Uruguay\n",
    "    ,Venezuela\n",
    "    \n",
    "- ASIA:\n",
    "    Armenia\n",
    "    ,Azerbaijan\n",
    "    ,Bahrain\n",
    "    ,Cyprus\n",
    "    ,Georgia\n",
    "    ,Iraq\n",
    "    ,Israel\n",
    "    ,Jordan\n",
    "    ,Kuwait\n",
    "    ,Lebanon\n",
    "    ,Oman\n",
    "    ,Qatar\n",
    "    ,Saudi Arabia\n",
    "    ,Syria\n",
    "    ,Turkey\n",
    "    ,United Arab Emirates\n",
    "    ,Yemen\n",
    "    ,Kazakhstan\n",
    "    ,Kyrgyzstan\n",
    "    ,Tajikistan\n",
    "    ,Turkmenistan\n",
    "    ,Uzbekistan\n",
    "    ,Afghanistan\n",
    "    ,Bangladesh\n",
    "    ,Bhutan\n",
    "    ,India\n",
    "    ,Iran\n",
    "    ,Maldives\n",
    "    ,Nepal\n",
    "    ,Pakistan\n",
    "    ,Sri Lanka\n",
    "    ,Brunei\n",
    "    ,Cambodia\n",
    "    ,Indonesia\n",
    "    ,Laos\n",
    "    ,Malaysia\n",
    "    ,Myanmar\n",
    "    ,Philippines\n",
    "    ,Singapore\n",
    "    ,Thailand\n",
    "    ,Timor-Leste\n",
    "    ,Vietnam\n",
    "    ,China\n",
    "    ,Japan\n",
    "    ,Korea, North\n",
    "    ,Korea, South\n",
    "    ,Mongolia\n",
    "    ,Taiwan\n",
    "    \n",
    "- EUROPE:\n",
    "    Denmark\n",
    "    ,Estonia\n",
    "    ,Finland\n",
    "    ,Iceland\n",
    "    ,Ireland\n",
    "    ,Latvia\n",
    "    ,Lithuania\n",
    "    ,Norway\n",
    "    ,Sweden\n",
    "    ,United Kingdom\n",
    "    ,Austria\n",
    "    ,Belgium\n",
    "    ,France\n",
    "    ,Germany\n",
    "    ,Liechtenstein\n",
    "    ,Luxembourg\n",
    "    ,Monaco\n",
    "    ,Netherlands\n",
    "    ,Switzerland\n",
    "    ,Belarus\n",
    "    ,Bulgaria\n",
    "    ,Czechia\n",
    "    ,Hungary\n",
    "    ,Moldova\n",
    "    ,Poland\n",
    "    ,Romania\n",
    "    ,Russia\n",
    "    ,Slovakia\n",
    "    ,Ukraine\n",
    "    ,Albania\n",
    "    ,Andorra\n",
    "    ,Bosnia-Herzegovina\n",
    "    ,Croatia\n",
    "    ,Greece\n",
    "    ,Italy\n",
    "    ,Kosovo\n",
    "    ,Macedonia\n",
    "    ,Malta\n",
    "    ,Montenegro\n",
    "    ,Portugal\n",
    "    ,San Marino\n",
    "    ,Serbia\n",
    "    ,Slovenia\n",
    "    ,Spain\n",
    "\n",
    "- OCEANIA:\n",
    "    Australia\n",
    "    ,Federated States of Micronesia\n",
    "    ,Fiji\n",
    "    ,French Polynesia\n",
    "    ,Guam\n",
    "    ,Kiribati\n",
    "    ,Marshall Islands\n",
    "    ,Nauru\n",
    "    ,New Caledonia\n",
    "    ,New Zealand\n",
    "    ,Palau\n",
    "    ,Papua New Guinea\n",
    "    ,Samoa\n",
    "    ,Solomon Islands\n",
    "    ,Tonga\n",
    "    ,Tuvalu\n",
    "    ,Vanuatu\n",
    "    \n",
    "    \n",
    "    \n",
    "#### Step 5. Adding up article counts for each region"
   ]
  },
  {
   "cell_type": "code",
   "execution_count": 120,
   "metadata": {},
   "outputs": [],
   "source": [
    "#Article count set to zero\n",
    "AFRICA = 0\n",
    "NA = 0\n",
    "LA = 0\n",
    "ASIA = 0\n",
    "EUROPE = 0\n",
    "OCEANIA = 0\n",
    "\n",
    "#High quality counts set to 0\n",
    "AFRICA_hq = 0\n",
    "NA_hq = 0\n",
    "LA_hq = 0\n",
    "ASIA_hq = 0\n",
    "EUROPE_hq = 0\n",
    "OCEANIA_hq = 0\n",
    "\n",
    "#List of all countries belonging to a region\n",
    "Africa_l = [\"Algeria\", \"Egypt\", \"Libya\", \n",
    "            \"Morocco\", \"Sudan\", \"Tunisia\", \n",
    "            \"Western Sahara\", \"Benin\", \"Burkina Faso\", \n",
    "            \"Cape Verde\", \"Cote d'Ivoire\", \"Gambia\", \"Ghana\", \n",
    "            \"Guinea\", \"Guinea-Bissau\", \"Liberia, Mali\" ,\"Mauritania\" ,\"Niger\" ,\"Nigeria\" ,\"Senegal\" \n",
    "            ,\"Sierra Leone\" ,\"Togo\" ,\"Burundi\" ,\"Comoros\" ,\"Djibouti\" ,\"Eritrea\" ,\"Ethiopia\" ,\"Kenya\" ,\"Madagascar\" ,\n",
    "            \"Malawi\" ,\"Mauritius\" ,\"Mozambique\" ,\"Rwanda\" ,\"Seychelles\" ,\"Somalia\" ,\"South Sudan\" ,\"Tanzania\" ,\"Uganda\" ,\n",
    "            \"Zambia\" ,\n",
    "            \"Zimbabwe\" ,\"Angola\" ,\"Cameroon\" ,\"Central African Republic\" ,\"Chad\" ,\"Congo\" ,\"Congo, Dem. Rep.\" ,\"Equatorial Guinea\" ,\n",
    "            \"Gabon\" ,\"Sao Tome and Principe\" ,\"Botswana\" ,\"eSwatini\" ,\"Lesotho\" ,\"Namibia\" ,\"South Africa\"]\n",
    "            \n",
    "NA_l = [\"Canada\",\"United States\"]\n",
    "\n",
    "LA_l = [\"Belize\" ,\"Costa Rica\" ,\"El Salvador\" ,\"Guatemala\" ,\"Honduras\" ,\"Mexico\" ,\"Nicaragua\" ,\"Panama\" ,\"Antigua and Barbuda\" ,\n",
    "        \"Bahamas\" ,\"Barbados\" ,\"Cuba\" ,\"Curacao\" ,\"Dominica\" ,\"Dominican Republic\" ,\"Grenada\" ,\"Haiti\" ,\"Jamaica\" ,\"Puerto Rico\" ,\n",
    "        \"St. Kitts-Nevis\" ,\"Saint Lucia\" ,\"St. Vincent and the Grenadines\" ,\"Trinidad and Tobago\" ,\"Argentina\" ,\"Bolivia\" ,\n",
    "        \"Brazil\" ,\"Chile\" ,\"Colombia\" ,\"Ecuador\" ,\"Guyana\" ,\"Paraguay\" ,\"Peru\" ,\"Suriname\" ,\"Uruguay\" ,\"Venezuela\"]\n",
    "\n",
    "Asia_l = [\"Armenia\" ,\"Azerbaijan\" ,\"Bahrain\" ,\"Cyprus\" ,\"Georgia\" ,\"Iraq\" ,\"Israel\" ,\"Jordan\" ,\"Kuwait\" ,\"Lebanon\" ,\"Oman\" ,\"Qatar\" \n",
    "          ,\"Saudi Arabia\" ,\"Syria\" ,\"Turkey\" ,\"United Arab Emirates\" ,\"Yemen\" ,\"Kazakhstan\" ,\"Kyrgyzstan\" ,\"Tajikistan\" \n",
    "          ,\"Turkmenistan\" ,\"Uzbekistan\" ,\"Afghanistan\" ,\"Bangladesh\" ,\"Bhutan\" ,\"India\" ,\"Iran\" ,\"Maldives\" ,\"Nepal\" \n",
    "          ,\"Pakistan\" ,\"Sri Lanka\" ,\"Brunei\" ,\"Cambodia\" ,\"Indonesia\" ,\"Laos\" ,\"Malaysia\" ,\"Myanmar\" ,\"Philippines\" \n",
    "          ,\"Singapore\" ,\"Thailand\" ,\"Timor-Leste\" ,\"Vietnam\" ,\"China\" ,\"Japan\" ,\"Korea, North\" ,\"Korea, South\" ,\"Mongolia\" ,\"Taiwan\"]\n",
    "\n",
    "Euro_l = [\"Denmark\" ,\"Estonia\" ,\"Finland\" ,\"Iceland\" ,\"Ireland\" ,\"Latvia\" ,\"Lithuania\" ,\"Norway\" ,\"Sweden\" ,\"United Kingdom\" ,\n",
    "          \"Austria\" ,\"Belgium\" ,\"France\" ,\"Germany\" ,\"Liechtenstein\" ,\"Luxembourg\" ,\"Monaco\" ,\"Netherlands\" ,\"Switzerland\" ,\n",
    "          \"Belarus\" ,\"Bulgaria\" ,\"Czechia\" ,\"Hungary\" ,\"Moldova\" ,\"Poland\" ,\"Romania\" ,\"Russia\" ,\"Slovakia\" ,\"Ukraine\" ,\"Albania\" ,\n",
    "          \"Andorra\" ,\"Bosnia-Herzegovina\" ,\"Croatia\" ,\"Greece\" ,\"Italy\" ,\"Kosovo\" ,\"Macedonia\" ,\"Malta\" ,\"Montenegro\" ,\"Portugal\" ,\n",
    "          \"San Marino\" ,\"Serbia\" ,\"Slovenia\" ,\"Spain\"]\n",
    "\n",
    "Oceania_l = [\"Australia\" ,\"Federated States of Micronesia\" ,\"Fiji\" ,\"French Polynesia\" ,\"Guam\" ,\"Kiribati\" ,\"Marshall Islands\" \n",
    "             ,\"Nauru\" ,\"New Caledonia\" ,\"New Zealand\" ,\"Palau\" ,\"Papua New Guinea\" ,\"Samoa\" ,\"Solomon Islands\" ,\"Tonga\" ,\"Tuvalu\" \n",
    "             ,\"Vanuatu\"]\n",
    "\n",
    "#Traversing a dataframe to get the number of articles (high quality and total)\n",
    "for index,r in final_data.iterrows():\n",
    "    if r[\"country\"] in Africa_l:\n",
    "        AFRICA = AFRICA + r['Num of articles']\n",
    "        AFRICA_hq = AFRICA_hq + r['Num of highquality articles']\n",
    "    elif r[\"country\"] in NA_l:\n",
    "        NA = NA + r['Num of articles']\n",
    "        NA_hq = NA_hq + r['Num of highquality articles']\n",
    "    elif r[\"country\"] in LA_l:\n",
    "        LA = LA + r['Num of articles']\n",
    "        LA_hq = LA_hq + r['Num of highquality articles']\n",
    "    elif r[\"country\"] in Asia_l:\n",
    "        ASIA = ASIA + r['Num of articles']\n",
    "        ASIA_hq = ASIA_hq + r['Num of highquality articles']\n",
    "    elif r[\"country\"] in Euro_l:\n",
    "        EUROPE = EUROPE + r['Num of articles']\n",
    "        EUROPE_hq = EUROPE_hq + r['Num of highquality articles']\n",
    "    elif r[\"country\"] in Oceania_l:\n",
    "        OCEANIA = OCEANIA + r['Num of articles']\n",
    "        OCEANIA_hq = OCEANIA_hq + r['Num of highquality articles']\n",
    "    "
   ]
  },
  {
   "cell_type": "markdown",
   "metadata": {},
   "source": [
    "#### Step 6. Merging article counts and population data for regions"
   ]
  },
  {
   "cell_type": "code",
   "execution_count": 121,
   "metadata": {},
   "outputs": [],
   "source": [
    "#Creating data frame for counts\n",
    "region_data_article= pd.DataFrame({'Geography': [\"AFRICA\", \"NORTHERN AMERICA\", \"LATIN AMERICA AND THE CARIBBEAN\",\"ASIA\",\"EUROPE\",\"OCEANIA\"], 'Num of Articles': [AFRICA, NA,LA,ASIA,EUROPE,OCEANIA], 'Num of highquality Articles':\n",
    "                                  [AFRICA_hq,NA_hq,LA_hq,ASIA_hq,EUROPE_hq,OCEANIA_hq]}) "
   ]
  },
  {
   "cell_type": "code",
   "execution_count": 122,
   "metadata": {},
   "outputs": [],
   "source": [
    "region_data = pd.merge(region_data,region_data_article,on=\"Geography\",how=\"inner\")"
   ]
  },
  {
   "cell_type": "code",
   "execution_count": 129,
   "metadata": {},
   "outputs": [
    {
     "data": {
      "text/html": [
       "<div>\n",
       "<style scoped>\n",
       "    .dataframe tbody tr th:only-of-type {\n",
       "        vertical-align: middle;\n",
       "    }\n",
       "\n",
       "    .dataframe tbody tr th {\n",
       "        vertical-align: top;\n",
       "    }\n",
       "\n",
       "    .dataframe thead th {\n",
       "        text-align: right;\n",
       "    }\n",
       "</style>\n",
       "<table border=\"1\" class=\"dataframe\">\n",
       "  <thead>\n",
       "    <tr style=\"text-align: right;\">\n",
       "      <th></th>\n",
       "      <th>Geography</th>\n",
       "      <th>population</th>\n",
       "      <th>Num of Articles</th>\n",
       "      <th>Num of highquality Articles</th>\n",
       "      <th>percentage of articles to population</th>\n",
       "      <th>percentage of high quality articles</th>\n",
       "    </tr>\n",
       "  </thead>\n",
       "  <tbody>\n",
       "    <tr>\n",
       "      <th>0</th>\n",
       "      <td>AFRICA</td>\n",
       "      <td>1284000000</td>\n",
       "      <td>6507</td>\n",
       "      <td>116.0</td>\n",
       "      <td>0.000507</td>\n",
       "      <td>1.782696</td>\n",
       "    </tr>\n",
       "  </tbody>\n",
       "</table>\n",
       "</div>"
      ],
      "text/plain": [
       "  Geography  population  Num of Articles  Num of highquality Articles  \\\n",
       "0    AFRICA  1284000000             6507                        116.0   \n",
       "\n",
       "   percentage of articles to population  percentage of high quality articles  \n",
       "0                              0.000507                             1.782696  "
      ]
     },
     "execution_count": 129,
     "metadata": {},
     "output_type": "execute_result"
    }
   ],
   "source": [
    "region_data.head(1)"
   ]
  },
  {
   "cell_type": "markdown",
   "metadata": {},
   "source": [
    "#### Step 7. Converting population to numeric value, and calculatimg percentage of articles"
   ]
  },
  {
   "cell_type": "code",
   "execution_count": 124,
   "metadata": {},
   "outputs": [],
   "source": [
    "region_data = region_data.rename(columns={\"Population mid-2018 (millions)\":\"population\"}) #renaming column\n",
    "region_data[\"population\"] = region_data[\"population\"].apply(lambda s: s.replace(\",\", \"\"))\n",
    "region_data['population'] = pd.to_numeric(region_data['population'],errors='coerce')*1000000 # Convert to numeric"
   ]
  },
  {
   "cell_type": "code",
   "execution_count": 125,
   "metadata": {},
   "outputs": [],
   "source": [
    "region_data['percentage of articles to population'] = region_data['Num of Articles']*100/region_data['population']"
   ]
  },
  {
   "cell_type": "code",
   "execution_count": 126,
   "metadata": {},
   "outputs": [],
   "source": [
    "region_data['percentage of high quality articles'] = region_data['Num of highquality Articles']*100/region_data['Num of Articles']"
   ]
  },
  {
   "cell_type": "markdown",
   "metadata": {},
   "source": [
    "### The Second half of this analysis will be looking at the 10 lowest and highest ranking countries in:\n",
    "\n",
    "#### a) Percentage of high quality articles\n",
    "##### - TOP TEN"
   ]
  },
  {
   "cell_type": "code",
   "execution_count": 71,
   "metadata": {},
   "outputs": [
    {
     "data": {
      "text/html": [
       "<div>\n",
       "<style scoped>\n",
       "    .dataframe tbody tr th:only-of-type {\n",
       "        vertical-align: middle;\n",
       "    }\n",
       "\n",
       "    .dataframe tbody tr th {\n",
       "        vertical-align: top;\n",
       "    }\n",
       "\n",
       "    .dataframe thead th {\n",
       "        text-align: right;\n",
       "    }\n",
       "</style>\n",
       "<table border=\"1\" class=\"dataframe\">\n",
       "  <thead>\n",
       "    <tr style=\"text-align: right;\">\n",
       "      <th></th>\n",
       "      <th>Num of highquality articles</th>\n",
       "      <th>Num of articles</th>\n",
       "      <th>percentage of highquality to total</th>\n",
       "      <th>population</th>\n",
       "      <th>percentage of articles to population</th>\n",
       "    </tr>\n",
       "    <tr>\n",
       "      <th>country</th>\n",
       "      <th></th>\n",
       "      <th></th>\n",
       "      <th></th>\n",
       "      <th></th>\n",
       "      <th></th>\n",
       "    </tr>\n",
       "  </thead>\n",
       "  <tbody>\n",
       "    <tr>\n",
       "      <th>Korea, North</th>\n",
       "      <td>6.0</td>\n",
       "      <td>34</td>\n",
       "      <td>17.647059</td>\n",
       "      <td>25600000.0</td>\n",
       "      <td>0.000133</td>\n",
       "    </tr>\n",
       "    <tr>\n",
       "      <th>Mauritania</th>\n",
       "      <td>6.0</td>\n",
       "      <td>47</td>\n",
       "      <td>12.765957</td>\n",
       "      <td>4500000.0</td>\n",
       "      <td>0.001044</td>\n",
       "    </tr>\n",
       "    <tr>\n",
       "      <th>Central African Republic</th>\n",
       "      <td>8.0</td>\n",
       "      <td>65</td>\n",
       "      <td>12.307692</td>\n",
       "      <td>4700000.0</td>\n",
       "      <td>0.001383</td>\n",
       "    </tr>\n",
       "    <tr>\n",
       "      <th>Saudi Arabia</th>\n",
       "      <td>14.0</td>\n",
       "      <td>115</td>\n",
       "      <td>12.173913</td>\n",
       "      <td>33400000.0</td>\n",
       "      <td>0.000344</td>\n",
       "    </tr>\n",
       "    <tr>\n",
       "      <th>Romania</th>\n",
       "      <td>39.0</td>\n",
       "      <td>340</td>\n",
       "      <td>11.470588</td>\n",
       "      <td>19500000.0</td>\n",
       "      <td>0.001744</td>\n",
       "    </tr>\n",
       "    <tr>\n",
       "      <th>Tuvalu</th>\n",
       "      <td>5.0</td>\n",
       "      <td>54</td>\n",
       "      <td>9.259259</td>\n",
       "      <td>10000.0</td>\n",
       "      <td>0.540000</td>\n",
       "    </tr>\n",
       "    <tr>\n",
       "      <th>Bhutan</th>\n",
       "      <td>3.0</td>\n",
       "      <td>33</td>\n",
       "      <td>9.090909</td>\n",
       "      <td>800000.0</td>\n",
       "      <td>0.004125</td>\n",
       "    </tr>\n",
       "    <tr>\n",
       "      <th>Dominica</th>\n",
       "      <td>1.0</td>\n",
       "      <td>12</td>\n",
       "      <td>8.333333</td>\n",
       "      <td>70000.0</td>\n",
       "      <td>0.017143</td>\n",
       "    </tr>\n",
       "    <tr>\n",
       "      <th>Syria</th>\n",
       "      <td>10.0</td>\n",
       "      <td>127</td>\n",
       "      <td>7.874016</td>\n",
       "      <td>18300000.0</td>\n",
       "      <td>0.000694</td>\n",
       "    </tr>\n",
       "    <tr>\n",
       "      <th>Benin</th>\n",
       "      <td>7.0</td>\n",
       "      <td>91</td>\n",
       "      <td>7.692308</td>\n",
       "      <td>11500000.0</td>\n",
       "      <td>0.000791</td>\n",
       "    </tr>\n",
       "  </tbody>\n",
       "</table>\n",
       "</div>"
      ],
      "text/plain": [
       "                          Num of highquality articles  Num of articles  \\\n",
       "country                                                                  \n",
       "Korea, North                                      6.0               34   \n",
       "Mauritania                                        6.0               47   \n",
       "Central African Republic                          8.0               65   \n",
       "Saudi Arabia                                     14.0              115   \n",
       "Romania                                          39.0              340   \n",
       "Tuvalu                                            5.0               54   \n",
       "Bhutan                                            3.0               33   \n",
       "Dominica                                          1.0               12   \n",
       "Syria                                            10.0              127   \n",
       "Benin                                             7.0               91   \n",
       "\n",
       "                          percentage of highquality to total  population  \\\n",
       "country                                                                    \n",
       "Korea, North                                       17.647059  25600000.0   \n",
       "Mauritania                                         12.765957   4500000.0   \n",
       "Central African Republic                           12.307692   4700000.0   \n",
       "Saudi Arabia                                       12.173913  33400000.0   \n",
       "Romania                                            11.470588  19500000.0   \n",
       "Tuvalu                                              9.259259     10000.0   \n",
       "Bhutan                                              9.090909    800000.0   \n",
       "Dominica                                            8.333333     70000.0   \n",
       "Syria                                               7.874016  18300000.0   \n",
       "Benin                                               7.692308  11500000.0   \n",
       "\n",
       "                          percentage of articles to population  \n",
       "country                                                         \n",
       "Korea, North                                          0.000133  \n",
       "Mauritania                                            0.001044  \n",
       "Central African Republic                              0.001383  \n",
       "Saudi Arabia                                          0.000344  \n",
       "Romania                                               0.001744  \n",
       "Tuvalu                                                0.540000  \n",
       "Bhutan                                                0.004125  \n",
       "Dominica                                              0.017143  \n",
       "Syria                                                 0.000694  \n",
       "Benin                                                 0.000791  "
      ]
     },
     "execution_count": 71,
     "metadata": {},
     "output_type": "execute_result"
    }
   ],
   "source": [
    "final_data.sort_values('percentage of highquality to total',ascending = False).head(10)"
   ]
  },
  {
   "cell_type": "markdown",
   "metadata": {},
   "source": [
    "##### - LOWEST TEN"
   ]
  },
  {
   "cell_type": "code",
   "execution_count": 72,
   "metadata": {},
   "outputs": [
    {
     "data": {
      "text/html": [
       "<div>\n",
       "<style scoped>\n",
       "    .dataframe tbody tr th:only-of-type {\n",
       "        vertical-align: middle;\n",
       "    }\n",
       "\n",
       "    .dataframe tbody tr th {\n",
       "        vertical-align: top;\n",
       "    }\n",
       "\n",
       "    .dataframe thead th {\n",
       "        text-align: right;\n",
       "    }\n",
       "</style>\n",
       "<table border=\"1\" class=\"dataframe\">\n",
       "  <thead>\n",
       "    <tr style=\"text-align: right;\">\n",
       "      <th></th>\n",
       "      <th>Num of highquality articles</th>\n",
       "      <th>Num of articles</th>\n",
       "      <th>percentage of highquality to total</th>\n",
       "      <th>population</th>\n",
       "      <th>percentage of articles to population</th>\n",
       "    </tr>\n",
       "    <tr>\n",
       "      <th>country</th>\n",
       "      <th></th>\n",
       "      <th></th>\n",
       "      <th></th>\n",
       "      <th></th>\n",
       "      <th></th>\n",
       "    </tr>\n",
       "  </thead>\n",
       "  <tbody>\n",
       "    <tr>\n",
       "      <th>Barbados</th>\n",
       "      <td>0.0</td>\n",
       "      <td>13</td>\n",
       "      <td>0.0</td>\n",
       "      <td>300000.0</td>\n",
       "      <td>0.004333</td>\n",
       "    </tr>\n",
       "    <tr>\n",
       "      <th>Macedonia</th>\n",
       "      <td>0.0</td>\n",
       "      <td>65</td>\n",
       "      <td>0.0</td>\n",
       "      <td>2100000.0</td>\n",
       "      <td>0.003095</td>\n",
       "    </tr>\n",
       "    <tr>\n",
       "      <th>Kazakhstan</th>\n",
       "      <td>0.0</td>\n",
       "      <td>77</td>\n",
       "      <td>0.0</td>\n",
       "      <td>18400000.0</td>\n",
       "      <td>0.000418</td>\n",
       "    </tr>\n",
       "    <tr>\n",
       "      <th>San Marino</th>\n",
       "      <td>0.0</td>\n",
       "      <td>81</td>\n",
       "      <td>0.0</td>\n",
       "      <td>30000.0</td>\n",
       "      <td>0.270000</td>\n",
       "    </tr>\n",
       "    <tr>\n",
       "      <th>Malta</th>\n",
       "      <td>0.0</td>\n",
       "      <td>102</td>\n",
       "      <td>0.0</td>\n",
       "      <td>500000.0</td>\n",
       "      <td>0.020400</td>\n",
       "    </tr>\n",
       "    <tr>\n",
       "      <th>Cameroon</th>\n",
       "      <td>0.0</td>\n",
       "      <td>102</td>\n",
       "      <td>0.0</td>\n",
       "      <td>25600000.0</td>\n",
       "      <td>0.000398</td>\n",
       "    </tr>\n",
       "    <tr>\n",
       "      <th>Angola</th>\n",
       "      <td>0.0</td>\n",
       "      <td>106</td>\n",
       "      <td>0.0</td>\n",
       "      <td>30400000.0</td>\n",
       "      <td>0.000349</td>\n",
       "    </tr>\n",
       "    <tr>\n",
       "      <th>Slovakia</th>\n",
       "      <td>0.0</td>\n",
       "      <td>116</td>\n",
       "      <td>0.0</td>\n",
       "      <td>5400000.0</td>\n",
       "      <td>0.002148</td>\n",
       "    </tr>\n",
       "    <tr>\n",
       "      <th>Tonga</th>\n",
       "      <td>0.0</td>\n",
       "      <td>63</td>\n",
       "      <td>0.0</td>\n",
       "      <td>100000.0</td>\n",
       "      <td>0.063000</td>\n",
       "    </tr>\n",
       "    <tr>\n",
       "      <th>Tunisia</th>\n",
       "      <td>0.0</td>\n",
       "      <td>138</td>\n",
       "      <td>0.0</td>\n",
       "      <td>11600000.0</td>\n",
       "      <td>0.001190</td>\n",
       "    </tr>\n",
       "  </tbody>\n",
       "</table>\n",
       "</div>"
      ],
      "text/plain": [
       "            Num of highquality articles  Num of articles  \\\n",
       "country                                                    \n",
       "Barbados                            0.0               13   \n",
       "Macedonia                           0.0               65   \n",
       "Kazakhstan                          0.0               77   \n",
       "San Marino                          0.0               81   \n",
       "Malta                               0.0              102   \n",
       "Cameroon                            0.0              102   \n",
       "Angola                              0.0              106   \n",
       "Slovakia                            0.0              116   \n",
       "Tonga                               0.0               63   \n",
       "Tunisia                             0.0              138   \n",
       "\n",
       "            percentage of highquality to total  population  \\\n",
       "country                                                      \n",
       "Barbados                                   0.0    300000.0   \n",
       "Macedonia                                  0.0   2100000.0   \n",
       "Kazakhstan                                 0.0  18400000.0   \n",
       "San Marino                                 0.0     30000.0   \n",
       "Malta                                      0.0    500000.0   \n",
       "Cameroon                                   0.0  25600000.0   \n",
       "Angola                                     0.0  30400000.0   \n",
       "Slovakia                                   0.0   5400000.0   \n",
       "Tonga                                      0.0    100000.0   \n",
       "Tunisia                                    0.0  11600000.0   \n",
       "\n",
       "            percentage of articles to population  \n",
       "country                                           \n",
       "Barbados                                0.004333  \n",
       "Macedonia                               0.003095  \n",
       "Kazakhstan                              0.000418  \n",
       "San Marino                              0.270000  \n",
       "Malta                                   0.020400  \n",
       "Cameroon                                0.000398  \n",
       "Angola                                  0.000349  \n",
       "Slovakia                                0.002148  \n",
       "Tonga                                   0.063000  \n",
       "Tunisia                                 0.001190  "
      ]
     },
     "execution_count": 72,
     "metadata": {},
     "output_type": "execute_result"
    }
   ],
   "source": [
    "final_data.sort_values('percentage of highquality to total',ascending = True).head(10)"
   ]
  },
  {
   "cell_type": "markdown",
   "metadata": {},
   "source": [
    "#### b) Percentage of articles to population\n",
    "##### - TOP TEN"
   ]
  },
  {
   "cell_type": "code",
   "execution_count": 73,
   "metadata": {},
   "outputs": [
    {
     "data": {
      "text/html": [
       "<div>\n",
       "<style scoped>\n",
       "    .dataframe tbody tr th:only-of-type {\n",
       "        vertical-align: middle;\n",
       "    }\n",
       "\n",
       "    .dataframe tbody tr th {\n",
       "        vertical-align: top;\n",
       "    }\n",
       "\n",
       "    .dataframe thead th {\n",
       "        text-align: right;\n",
       "    }\n",
       "</style>\n",
       "<table border=\"1\" class=\"dataframe\">\n",
       "  <thead>\n",
       "    <tr style=\"text-align: right;\">\n",
       "      <th></th>\n",
       "      <th>Num of highquality articles</th>\n",
       "      <th>Num of articles</th>\n",
       "      <th>percentage of highquality to total</th>\n",
       "      <th>population</th>\n",
       "      <th>percentage of articles to population</th>\n",
       "    </tr>\n",
       "    <tr>\n",
       "      <th>country</th>\n",
       "      <th></th>\n",
       "      <th></th>\n",
       "      <th></th>\n",
       "      <th></th>\n",
       "      <th></th>\n",
       "    </tr>\n",
       "  </thead>\n",
       "  <tbody>\n",
       "    <tr>\n",
       "      <th>Tuvalu</th>\n",
       "      <td>5.0</td>\n",
       "      <td>54</td>\n",
       "      <td>9.259259</td>\n",
       "      <td>10000.0</td>\n",
       "      <td>0.540000</td>\n",
       "    </tr>\n",
       "    <tr>\n",
       "      <th>Nauru</th>\n",
       "      <td>0.0</td>\n",
       "      <td>52</td>\n",
       "      <td>0.000000</td>\n",
       "      <td>10000.0</td>\n",
       "      <td>0.520000</td>\n",
       "    </tr>\n",
       "    <tr>\n",
       "      <th>San Marino</th>\n",
       "      <td>0.0</td>\n",
       "      <td>81</td>\n",
       "      <td>0.000000</td>\n",
       "      <td>30000.0</td>\n",
       "      <td>0.270000</td>\n",
       "    </tr>\n",
       "    <tr>\n",
       "      <th>Monaco</th>\n",
       "      <td>0.0</td>\n",
       "      <td>40</td>\n",
       "      <td>0.000000</td>\n",
       "      <td>40000.0</td>\n",
       "      <td>0.100000</td>\n",
       "    </tr>\n",
       "    <tr>\n",
       "      <th>Liechtenstein</th>\n",
       "      <td>0.0</td>\n",
       "      <td>28</td>\n",
       "      <td>0.000000</td>\n",
       "      <td>40000.0</td>\n",
       "      <td>0.070000</td>\n",
       "    </tr>\n",
       "    <tr>\n",
       "      <th>Tonga</th>\n",
       "      <td>0.0</td>\n",
       "      <td>63</td>\n",
       "      <td>0.000000</td>\n",
       "      <td>100000.0</td>\n",
       "      <td>0.063000</td>\n",
       "    </tr>\n",
       "    <tr>\n",
       "      <th>Marshall Islands</th>\n",
       "      <td>0.0</td>\n",
       "      <td>37</td>\n",
       "      <td>0.000000</td>\n",
       "      <td>60000.0</td>\n",
       "      <td>0.061667</td>\n",
       "    </tr>\n",
       "    <tr>\n",
       "      <th>Iceland</th>\n",
       "      <td>2.0</td>\n",
       "      <td>199</td>\n",
       "      <td>1.005025</td>\n",
       "      <td>400000.0</td>\n",
       "      <td>0.049750</td>\n",
       "    </tr>\n",
       "    <tr>\n",
       "      <th>Andorra</th>\n",
       "      <td>0.0</td>\n",
       "      <td>34</td>\n",
       "      <td>0.000000</td>\n",
       "      <td>80000.0</td>\n",
       "      <td>0.042500</td>\n",
       "    </tr>\n",
       "    <tr>\n",
       "      <th>Grenada</th>\n",
       "      <td>1.0</td>\n",
       "      <td>36</td>\n",
       "      <td>2.777778</td>\n",
       "      <td>100000.0</td>\n",
       "      <td>0.036000</td>\n",
       "    </tr>\n",
       "  </tbody>\n",
       "</table>\n",
       "</div>"
      ],
      "text/plain": [
       "                  Num of highquality articles  Num of articles  \\\n",
       "country                                                          \n",
       "Tuvalu                                    5.0               54   \n",
       "Nauru                                     0.0               52   \n",
       "San Marino                                0.0               81   \n",
       "Monaco                                    0.0               40   \n",
       "Liechtenstein                             0.0               28   \n",
       "Tonga                                     0.0               63   \n",
       "Marshall Islands                          0.0               37   \n",
       "Iceland                                   2.0              199   \n",
       "Andorra                                   0.0               34   \n",
       "Grenada                                   1.0               36   \n",
       "\n",
       "                  percentage of highquality to total  population  \\\n",
       "country                                                            \n",
       "Tuvalu                                      9.259259     10000.0   \n",
       "Nauru                                       0.000000     10000.0   \n",
       "San Marino                                  0.000000     30000.0   \n",
       "Monaco                                      0.000000     40000.0   \n",
       "Liechtenstein                               0.000000     40000.0   \n",
       "Tonga                                       0.000000    100000.0   \n",
       "Marshall Islands                            0.000000     60000.0   \n",
       "Iceland                                     1.005025    400000.0   \n",
       "Andorra                                     0.000000     80000.0   \n",
       "Grenada                                     2.777778    100000.0   \n",
       "\n",
       "                  percentage of articles to population  \n",
       "country                                                 \n",
       "Tuvalu                                        0.540000  \n",
       "Nauru                                         0.520000  \n",
       "San Marino                                    0.270000  \n",
       "Monaco                                        0.100000  \n",
       "Liechtenstein                                 0.070000  \n",
       "Tonga                                         0.063000  \n",
       "Marshall Islands                              0.061667  \n",
       "Iceland                                       0.049750  \n",
       "Andorra                                       0.042500  \n",
       "Grenada                                       0.036000  "
      ]
     },
     "execution_count": 73,
     "metadata": {},
     "output_type": "execute_result"
    }
   ],
   "source": [
    "final_data.sort_values('percentage of articles to population',ascending = False).head(10)"
   ]
  },
  {
   "cell_type": "markdown",
   "metadata": {},
   "source": [
    "##### - LOWEST TEN"
   ]
  },
  {
   "cell_type": "code",
   "execution_count": 74,
   "metadata": {},
   "outputs": [
    {
     "data": {
      "text/html": [
       "<div>\n",
       "<style scoped>\n",
       "    .dataframe tbody tr th:only-of-type {\n",
       "        vertical-align: middle;\n",
       "    }\n",
       "\n",
       "    .dataframe tbody tr th {\n",
       "        vertical-align: top;\n",
       "    }\n",
       "\n",
       "    .dataframe thead th {\n",
       "        text-align: right;\n",
       "    }\n",
       "</style>\n",
       "<table border=\"1\" class=\"dataframe\">\n",
       "  <thead>\n",
       "    <tr style=\"text-align: right;\">\n",
       "      <th></th>\n",
       "      <th>Num of highquality articles</th>\n",
       "      <th>Num of articles</th>\n",
       "      <th>percentage of highquality to total</th>\n",
       "      <th>population</th>\n",
       "      <th>percentage of articles to population</th>\n",
       "    </tr>\n",
       "    <tr>\n",
       "      <th>country</th>\n",
       "      <th></th>\n",
       "      <th></th>\n",
       "      <th></th>\n",
       "      <th></th>\n",
       "      <th></th>\n",
       "    </tr>\n",
       "  </thead>\n",
       "  <tbody>\n",
       "    <tr>\n",
       "      <th>India</th>\n",
       "      <td>17.0</td>\n",
       "      <td>970</td>\n",
       "      <td>1.752577</td>\n",
       "      <td>1.371300e+09</td>\n",
       "      <td>0.000071</td>\n",
       "    </tr>\n",
       "    <tr>\n",
       "      <th>Indonesia</th>\n",
       "      <td>10.0</td>\n",
       "      <td>206</td>\n",
       "      <td>4.854369</td>\n",
       "      <td>2.652000e+08</td>\n",
       "      <td>0.000078</td>\n",
       "    </tr>\n",
       "    <tr>\n",
       "      <th>China</th>\n",
       "      <td>41.0</td>\n",
       "      <td>1114</td>\n",
       "      <td>3.680431</td>\n",
       "      <td>1.393800e+09</td>\n",
       "      <td>0.000080</td>\n",
       "    </tr>\n",
       "    <tr>\n",
       "      <th>Uzbekistan</th>\n",
       "      <td>2.0</td>\n",
       "      <td>28</td>\n",
       "      <td>7.142857</td>\n",
       "      <td>3.290000e+07</td>\n",
       "      <td>0.000085</td>\n",
       "    </tr>\n",
       "    <tr>\n",
       "      <th>Ethiopia</th>\n",
       "      <td>2.0</td>\n",
       "      <td>101</td>\n",
       "      <td>1.980198</td>\n",
       "      <td>1.075000e+08</td>\n",
       "      <td>0.000094</td>\n",
       "    </tr>\n",
       "    <tr>\n",
       "      <th>Korea, North</th>\n",
       "      <td>6.0</td>\n",
       "      <td>34</td>\n",
       "      <td>17.647059</td>\n",
       "      <td>2.560000e+07</td>\n",
       "      <td>0.000133</td>\n",
       "    </tr>\n",
       "    <tr>\n",
       "      <th>Zambia</th>\n",
       "      <td>0.0</td>\n",
       "      <td>24</td>\n",
       "      <td>0.000000</td>\n",
       "      <td>1.770000e+07</td>\n",
       "      <td>0.000136</td>\n",
       "    </tr>\n",
       "    <tr>\n",
       "      <th>Thailand</th>\n",
       "      <td>3.0</td>\n",
       "      <td>111</td>\n",
       "      <td>2.702703</td>\n",
       "      <td>6.620000e+07</td>\n",
       "      <td>0.000168</td>\n",
       "    </tr>\n",
       "    <tr>\n",
       "      <th>Mozambique</th>\n",
       "      <td>0.0</td>\n",
       "      <td>57</td>\n",
       "      <td>0.000000</td>\n",
       "      <td>3.050000e+07</td>\n",
       "      <td>0.000187</td>\n",
       "    </tr>\n",
       "    <tr>\n",
       "      <th>Bangladesh</th>\n",
       "      <td>3.0</td>\n",
       "      <td>319</td>\n",
       "      <td>0.940439</td>\n",
       "      <td>1.664000e+08</td>\n",
       "      <td>0.000192</td>\n",
       "    </tr>\n",
       "  </tbody>\n",
       "</table>\n",
       "</div>"
      ],
      "text/plain": [
       "              Num of highquality articles  Num of articles  \\\n",
       "country                                                      \n",
       "India                                17.0              970   \n",
       "Indonesia                            10.0              206   \n",
       "China                                41.0             1114   \n",
       "Uzbekistan                            2.0               28   \n",
       "Ethiopia                              2.0              101   \n",
       "Korea, North                          6.0               34   \n",
       "Zambia                                0.0               24   \n",
       "Thailand                              3.0              111   \n",
       "Mozambique                            0.0               57   \n",
       "Bangladesh                            3.0              319   \n",
       "\n",
       "              percentage of highquality to total    population  \\\n",
       "country                                                          \n",
       "India                                   1.752577  1.371300e+09   \n",
       "Indonesia                               4.854369  2.652000e+08   \n",
       "China                                   3.680431  1.393800e+09   \n",
       "Uzbekistan                              7.142857  3.290000e+07   \n",
       "Ethiopia                                1.980198  1.075000e+08   \n",
       "Korea, North                           17.647059  2.560000e+07   \n",
       "Zambia                                  0.000000  1.770000e+07   \n",
       "Thailand                                2.702703  6.620000e+07   \n",
       "Mozambique                              0.000000  3.050000e+07   \n",
       "Bangladesh                              0.940439  1.664000e+08   \n",
       "\n",
       "              percentage of articles to population  \n",
       "country                                             \n",
       "India                                     0.000071  \n",
       "Indonesia                                 0.000078  \n",
       "China                                     0.000080  \n",
       "Uzbekistan                                0.000085  \n",
       "Ethiopia                                  0.000094  \n",
       "Korea, North                              0.000133  \n",
       "Zambia                                    0.000136  \n",
       "Thailand                                  0.000168  \n",
       "Mozambique                                0.000187  \n",
       "Bangladesh                                0.000192  "
      ]
     },
     "execution_count": 74,
     "metadata": {},
     "output_type": "execute_result"
    }
   ],
   "source": [
    "final_data.sort_values('percentage of articles to population',ascending = True).head(10)"
   ]
  },
  {
   "cell_type": "markdown",
   "metadata": {},
   "source": [
    "#### c) Highest to lowest region-wise ranking of\n",
    "##### - PERCENTAGE OF ARTICLES TO POPULATION"
   ]
  },
  {
   "cell_type": "code",
   "execution_count": 127,
   "metadata": {},
   "outputs": [
    {
     "data": {
      "text/html": [
       "<div>\n",
       "<style scoped>\n",
       "    .dataframe tbody tr th:only-of-type {\n",
       "        vertical-align: middle;\n",
       "    }\n",
       "\n",
       "    .dataframe tbody tr th {\n",
       "        vertical-align: top;\n",
       "    }\n",
       "\n",
       "    .dataframe thead th {\n",
       "        text-align: right;\n",
       "    }\n",
       "</style>\n",
       "<table border=\"1\" class=\"dataframe\">\n",
       "  <thead>\n",
       "    <tr style=\"text-align: right;\">\n",
       "      <th></th>\n",
       "      <th>Geography</th>\n",
       "      <th>population</th>\n",
       "      <th>Num of Articles</th>\n",
       "      <th>Num of highquality Articles</th>\n",
       "      <th>percentage of articles to population</th>\n",
       "      <th>percentage of high quality articles</th>\n",
       "    </tr>\n",
       "  </thead>\n",
       "  <tbody>\n",
       "    <tr>\n",
       "      <th>5</th>\n",
       "      <td>OCEANIA</td>\n",
       "      <td>41000000</td>\n",
       "      <td>3094</td>\n",
       "      <td>64.0</td>\n",
       "      <td>0.007546</td>\n",
       "      <td>2.068520</td>\n",
       "    </tr>\n",
       "    <tr>\n",
       "      <th>4</th>\n",
       "      <td>EUROPE</td>\n",
       "      <td>746000000</td>\n",
       "      <td>15694</td>\n",
       "      <td>317.0</td>\n",
       "      <td>0.002104</td>\n",
       "      <td>2.019880</td>\n",
       "    </tr>\n",
       "    <tr>\n",
       "      <th>2</th>\n",
       "      <td>LATIN AMERICA AND THE CARIBBEAN</td>\n",
       "      <td>649000000</td>\n",
       "      <td>5116</td>\n",
       "      <td>67.0</td>\n",
       "      <td>0.000788</td>\n",
       "      <td>1.309617</td>\n",
       "    </tr>\n",
       "    <tr>\n",
       "      <th>1</th>\n",
       "      <td>NORTHERN AMERICA</td>\n",
       "      <td>365000000</td>\n",
       "      <td>1893</td>\n",
       "      <td>99.0</td>\n",
       "      <td>0.000519</td>\n",
       "      <td>5.229794</td>\n",
       "    </tr>\n",
       "    <tr>\n",
       "      <th>0</th>\n",
       "      <td>AFRICA</td>\n",
       "      <td>1284000000</td>\n",
       "      <td>6507</td>\n",
       "      <td>116.0</td>\n",
       "      <td>0.000507</td>\n",
       "      <td>1.782696</td>\n",
       "    </tr>\n",
       "    <tr>\n",
       "      <th>3</th>\n",
       "      <td>ASIA</td>\n",
       "      <td>4536000000</td>\n",
       "      <td>11414</td>\n",
       "      <td>306.0</td>\n",
       "      <td>0.000252</td>\n",
       "      <td>2.680918</td>\n",
       "    </tr>\n",
       "  </tbody>\n",
       "</table>\n",
       "</div>"
      ],
      "text/plain": [
       "                         Geography  population  Num of Articles  \\\n",
       "5                          OCEANIA    41000000             3094   \n",
       "4                           EUROPE   746000000            15694   \n",
       "2  LATIN AMERICA AND THE CARIBBEAN   649000000             5116   \n",
       "1                 NORTHERN AMERICA   365000000             1893   \n",
       "0                           AFRICA  1284000000             6507   \n",
       "3                             ASIA  4536000000            11414   \n",
       "\n",
       "   Num of highquality Articles  percentage of articles to population  \\\n",
       "5                         64.0                              0.007546   \n",
       "4                        317.0                              0.002104   \n",
       "2                         67.0                              0.000788   \n",
       "1                         99.0                              0.000519   \n",
       "0                        116.0                              0.000507   \n",
       "3                        306.0                              0.000252   \n",
       "\n",
       "   percentage of high quality articles  \n",
       "5                             2.068520  \n",
       "4                             2.019880  \n",
       "2                             1.309617  \n",
       "1                             5.229794  \n",
       "0                             1.782696  \n",
       "3                             2.680918  "
      ]
     },
     "execution_count": 127,
     "metadata": {},
     "output_type": "execute_result"
    }
   ],
   "source": [
    "region_data.sort_values('percentage of articles to population',ascending=False)"
   ]
  },
  {
   "cell_type": "markdown",
   "metadata": {},
   "source": [
    "##### - PERCENTAGE OF HIGH QUALITY ARTICLES "
   ]
  },
  {
   "cell_type": "code",
   "execution_count": 128,
   "metadata": {},
   "outputs": [
    {
     "data": {
      "text/html": [
       "<div>\n",
       "<style scoped>\n",
       "    .dataframe tbody tr th:only-of-type {\n",
       "        vertical-align: middle;\n",
       "    }\n",
       "\n",
       "    .dataframe tbody tr th {\n",
       "        vertical-align: top;\n",
       "    }\n",
       "\n",
       "    .dataframe thead th {\n",
       "        text-align: right;\n",
       "    }\n",
       "</style>\n",
       "<table border=\"1\" class=\"dataframe\">\n",
       "  <thead>\n",
       "    <tr style=\"text-align: right;\">\n",
       "      <th></th>\n",
       "      <th>Geography</th>\n",
       "      <th>population</th>\n",
       "      <th>Num of Articles</th>\n",
       "      <th>Num of highquality Articles</th>\n",
       "      <th>percentage of articles to population</th>\n",
       "      <th>percentage of high quality articles</th>\n",
       "    </tr>\n",
       "  </thead>\n",
       "  <tbody>\n",
       "    <tr>\n",
       "      <th>1</th>\n",
       "      <td>NORTHERN AMERICA</td>\n",
       "      <td>365000000</td>\n",
       "      <td>1893</td>\n",
       "      <td>99.0</td>\n",
       "      <td>0.000519</td>\n",
       "      <td>5.229794</td>\n",
       "    </tr>\n",
       "    <tr>\n",
       "      <th>3</th>\n",
       "      <td>ASIA</td>\n",
       "      <td>4536000000</td>\n",
       "      <td>11414</td>\n",
       "      <td>306.0</td>\n",
       "      <td>0.000252</td>\n",
       "      <td>2.680918</td>\n",
       "    </tr>\n",
       "    <tr>\n",
       "      <th>5</th>\n",
       "      <td>OCEANIA</td>\n",
       "      <td>41000000</td>\n",
       "      <td>3094</td>\n",
       "      <td>64.0</td>\n",
       "      <td>0.007546</td>\n",
       "      <td>2.068520</td>\n",
       "    </tr>\n",
       "    <tr>\n",
       "      <th>4</th>\n",
       "      <td>EUROPE</td>\n",
       "      <td>746000000</td>\n",
       "      <td>15694</td>\n",
       "      <td>317.0</td>\n",
       "      <td>0.002104</td>\n",
       "      <td>2.019880</td>\n",
       "    </tr>\n",
       "    <tr>\n",
       "      <th>0</th>\n",
       "      <td>AFRICA</td>\n",
       "      <td>1284000000</td>\n",
       "      <td>6507</td>\n",
       "      <td>116.0</td>\n",
       "      <td>0.000507</td>\n",
       "      <td>1.782696</td>\n",
       "    </tr>\n",
       "    <tr>\n",
       "      <th>2</th>\n",
       "      <td>LATIN AMERICA AND THE CARIBBEAN</td>\n",
       "      <td>649000000</td>\n",
       "      <td>5116</td>\n",
       "      <td>67.0</td>\n",
       "      <td>0.000788</td>\n",
       "      <td>1.309617</td>\n",
       "    </tr>\n",
       "  </tbody>\n",
       "</table>\n",
       "</div>"
      ],
      "text/plain": [
       "                         Geography  population  Num of Articles  \\\n",
       "1                 NORTHERN AMERICA   365000000             1893   \n",
       "3                             ASIA  4536000000            11414   \n",
       "5                          OCEANIA    41000000             3094   \n",
       "4                           EUROPE   746000000            15694   \n",
       "0                           AFRICA  1284000000             6507   \n",
       "2  LATIN AMERICA AND THE CARIBBEAN   649000000             5116   \n",
       "\n",
       "   Num of highquality Articles  percentage of articles to population  \\\n",
       "1                         99.0                              0.000519   \n",
       "3                        306.0                              0.000252   \n",
       "5                         64.0                              0.007546   \n",
       "4                        317.0                              0.002104   \n",
       "0                        116.0                              0.000507   \n",
       "2                         67.0                              0.000788   \n",
       "\n",
       "   percentage of high quality articles  \n",
       "1                             5.229794  \n",
       "3                             2.680918  \n",
       "5                             2.068520  \n",
       "4                             2.019880  \n",
       "0                             1.782696  \n",
       "2                             1.309617  "
      ]
     },
     "execution_count": 128,
     "metadata": {},
     "output_type": "execute_result"
    }
   ],
   "source": [
    "region_data.sort_values('percentage of high quality articles',ascending=False)"
   ]
  },
  {
   "cell_type": "markdown",
   "metadata": {},
   "source": [
    "### Conclusion\n",
    "\n",
    "- From the above tables we see that looking at just the ORES data would give us a completely different analysis, as we are looking at only \"English\" articles the country with the most highest ranking articles is as expected a country with it's first language being English, however when you look at this as a percentage of the overall number of articles interestingly you see countries that do not have English as their first language\n",
    "- Region wise this still holds to be true in terms of percentage of high-quality articles, which maybe because of the larger number of english articles written by these countries overpowers the granular look at countries with fewer articles"
   ]
  },
  {
   "cell_type": "code",
   "execution_count": 75,
   "metadata": {},
   "outputs": [
    {
     "data": {
      "text/html": [
       "<div>\n",
       "<style scoped>\n",
       "    .dataframe tbody tr th:only-of-type {\n",
       "        vertical-align: middle;\n",
       "    }\n",
       "\n",
       "    .dataframe tbody tr th {\n",
       "        vertical-align: top;\n",
       "    }\n",
       "\n",
       "    .dataframe thead th {\n",
       "        text-align: right;\n",
       "    }\n",
       "</style>\n",
       "<table border=\"1\" class=\"dataframe\">\n",
       "  <thead>\n",
       "    <tr style=\"text-align: right;\">\n",
       "      <th></th>\n",
       "      <th>Num of highquality articles</th>\n",
       "      <th>Num of articles</th>\n",
       "      <th>percentage of highquality to total</th>\n",
       "      <th>population</th>\n",
       "      <th>percentage of articles to population</th>\n",
       "    </tr>\n",
       "    <tr>\n",
       "      <th>country</th>\n",
       "      <th></th>\n",
       "      <th></th>\n",
       "      <th></th>\n",
       "      <th></th>\n",
       "      <th></th>\n",
       "    </tr>\n",
       "  </thead>\n",
       "  <tbody>\n",
       "    <tr>\n",
       "      <th>China</th>\n",
       "      <td>41.0</td>\n",
       "      <td>1114</td>\n",
       "      <td>3.680431</td>\n",
       "      <td>1.393800e+09</td>\n",
       "      <td>0.000080</td>\n",
       "    </tr>\n",
       "    <tr>\n",
       "      <th>India</th>\n",
       "      <td>17.0</td>\n",
       "      <td>970</td>\n",
       "      <td>1.752577</td>\n",
       "      <td>1.371300e+09</td>\n",
       "      <td>0.000071</td>\n",
       "    </tr>\n",
       "    <tr>\n",
       "      <th>United States</th>\n",
       "      <td>77.0</td>\n",
       "      <td>1061</td>\n",
       "      <td>7.257304</td>\n",
       "      <td>3.280000e+08</td>\n",
       "      <td>0.000323</td>\n",
       "    </tr>\n",
       "    <tr>\n",
       "      <th>Indonesia</th>\n",
       "      <td>10.0</td>\n",
       "      <td>206</td>\n",
       "      <td>4.854369</td>\n",
       "      <td>2.652000e+08</td>\n",
       "      <td>0.000078</td>\n",
       "    </tr>\n",
       "    <tr>\n",
       "      <th>Brazil</th>\n",
       "      <td>5.0</td>\n",
       "      <td>541</td>\n",
       "      <td>0.924214</td>\n",
       "      <td>2.094000e+08</td>\n",
       "      <td>0.000258</td>\n",
       "    </tr>\n",
       "    <tr>\n",
       "      <th>Pakistan</th>\n",
       "      <td>19.0</td>\n",
       "      <td>1011</td>\n",
       "      <td>1.879327</td>\n",
       "      <td>2.006000e+08</td>\n",
       "      <td>0.000504</td>\n",
       "    </tr>\n",
       "    <tr>\n",
       "      <th>Nigeria</th>\n",
       "      <td>2.0</td>\n",
       "      <td>669</td>\n",
       "      <td>0.298954</td>\n",
       "      <td>1.959000e+08</td>\n",
       "      <td>0.000342</td>\n",
       "    </tr>\n",
       "    <tr>\n",
       "      <th>Bangladesh</th>\n",
       "      <td>3.0</td>\n",
       "      <td>319</td>\n",
       "      <td>0.940439</td>\n",
       "      <td>1.664000e+08</td>\n",
       "      <td>0.000192</td>\n",
       "    </tr>\n",
       "    <tr>\n",
       "      <th>Russia</th>\n",
       "      <td>29.0</td>\n",
       "      <td>865</td>\n",
       "      <td>3.352601</td>\n",
       "      <td>1.473000e+08</td>\n",
       "      <td>0.000587</td>\n",
       "    </tr>\n",
       "    <tr>\n",
       "      <th>Mexico</th>\n",
       "      <td>9.0</td>\n",
       "      <td>1064</td>\n",
       "      <td>0.845865</td>\n",
       "      <td>1.308000e+08</td>\n",
       "      <td>0.000813</td>\n",
       "    </tr>\n",
       "  </tbody>\n",
       "</table>\n",
       "</div>"
      ],
      "text/plain": [
       "               Num of highquality articles  Num of articles  \\\n",
       "country                                                       \n",
       "China                                 41.0             1114   \n",
       "India                                 17.0              970   \n",
       "United States                         77.0             1061   \n",
       "Indonesia                             10.0              206   \n",
       "Brazil                                 5.0              541   \n",
       "Pakistan                              19.0             1011   \n",
       "Nigeria                                2.0              669   \n",
       "Bangladesh                             3.0              319   \n",
       "Russia                                29.0              865   \n",
       "Mexico                                 9.0             1064   \n",
       "\n",
       "               percentage of highquality to total    population  \\\n",
       "country                                                           \n",
       "China                                    3.680431  1.393800e+09   \n",
       "India                                    1.752577  1.371300e+09   \n",
       "United States                            7.257304  3.280000e+08   \n",
       "Indonesia                                4.854369  2.652000e+08   \n",
       "Brazil                                   0.924214  2.094000e+08   \n",
       "Pakistan                                 1.879327  2.006000e+08   \n",
       "Nigeria                                  0.298954  1.959000e+08   \n",
       "Bangladesh                               0.940439  1.664000e+08   \n",
       "Russia                                   3.352601  1.473000e+08   \n",
       "Mexico                                   0.845865  1.308000e+08   \n",
       "\n",
       "               percentage of articles to population  \n",
       "country                                              \n",
       "China                                      0.000080  \n",
       "India                                      0.000071  \n",
       "United States                              0.000323  \n",
       "Indonesia                                  0.000078  \n",
       "Brazil                                     0.000258  \n",
       "Pakistan                                   0.000504  \n",
       "Nigeria                                    0.000342  \n",
       "Bangladesh                                 0.000192  \n",
       "Russia                                     0.000587  \n",
       "Mexico                                     0.000813  "
      ]
     },
     "execution_count": 75,
     "metadata": {},
     "output_type": "execute_result"
    }
   ],
   "source": [
    "final_data.sort_values('population',ascending=False).head(10)"
   ]
  },
  {
   "cell_type": "markdown",
   "metadata": {},
   "source": [
    "- The analysis of percentage of articles to population is very much dependent on the population and says little about political articles Especially in largely populated countries such as India, China, Indonesia, just because a country has a higher population does not imply that they will have more politicians/ articles about politicians.\n",
    "- This is also supported in the region wise glance at ratio of article to population, Asia, Africa, and North America ranking bottom in that analysis"
   ]
  }
 ],
 "metadata": {
  "kernelspec": {
   "display_name": "Python 3",
   "language": "python",
   "name": "python3"
  },
  "language_info": {
   "codemirror_mode": {
    "name": "ipython",
    "version": 3
   },
   "file_extension": ".py",
   "mimetype": "text/x-python",
   "name": "python",
   "nbconvert_exporter": "python",
   "pygments_lexer": "ipython3",
   "version": "3.7.3"
  }
 },
 "nbformat": 4,
 "nbformat_minor": 2
}
